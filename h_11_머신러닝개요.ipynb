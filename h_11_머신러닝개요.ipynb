{
  "nbformat": 4,
  "nbformat_minor": 0,
  "metadata": {
    "colab": {
      "name": "g_11_선형회귀개념.ipynb",
      "provenance": [],
      "collapsed_sections": []
    },
    "kernelspec": {
      "display_name": "Python 3",
      "language": "python",
      "name": "python3"
    },
    "language_info": {
      "codemirror_mode": {
        "name": "ipython",
        "version": 3
      },
      "file_extension": ".py",
      "mimetype": "text/x-python",
      "name": "python",
      "nbconvert_exporter": "python",
      "pygments_lexer": "ipython3",
      "version": "3.8.5"
    },
    "toc": {
      "base_numbering": 1,
      "nav_menu": {},
      "number_sections": false,
      "sideBar": true,
      "skip_h1_title": false,
      "title_cell": "Table of Contents",
      "title_sidebar": "Contents",
      "toc_cell": false,
      "toc_position": {
        "height": "calc(100% - 180px)",
        "left": "10px",
        "top": "150px",
        "width": "191.837px"
      },
      "toc_section_display": true,
      "toc_window_display": false
    }
  },
  "cells": [
    {
      "cell_type": "markdown",
      "metadata": {
        "id": "Dji53O40dPED"
      },
      "source": [
        "# 머신러닝 개요\n",
        "\n",
        "## 머신러닝 정의\n",
        "- 수치를 예측하는 회귀, 카테고리를 예측하는 분류, 최적의 추천 등을 수행하는 소프트웨어로, 데이터를 보고 학습하여 점차 성능이 개선된다\n",
        "- 현재 인공지능을 구현하는 대표적인 방법이 머신러닝 기법이다\n",
        " - 인공지능을 구현하는 다른 방법으로 \"생각하는\" 컴퓨터를 만들거나, 언어를 문법적으로 이해하는 컴퓨터를 만드는 것, 또는 사람의 지식을 알고리즘이나 데이터로 구축하는 방법은 성공하지 못했다\n",
        " "
      ]
    },
    {
      "cell_type": "markdown",
      "metadata": {
        "id": "hoLwn7vqenZP"
      },
      "source": [
        "- 머신러닝 동작\n",
        "<img src=\"https://raw.githubusercontent.com/data-labs/image/main/%E1%84%89%E1%85%B3%E1%84%8F%E1%85%B3%E1%84%85%E1%85%B5%E1%86%AB%E1%84%89%E1%85%A3%E1%86%BA%202020-12-29%20%E1%84%8B%E1%85%A9%E1%84%92%E1%85%AE%2010.08.38.png?raw=1\" align='left'>"
      ]
    },
    {
      "cell_type": "markdown",
      "metadata": {
        "id": "BNq6bDm-enZQ"
      },
      "source": [
        "### 데이터 (X)\n",
        "- 훈련 (train) 데이터: 모델을 학습시키는데 사용하는 데이터\n",
        "- 검증 (validation) 데이터: 학습시킨 모델의 동작을 검증하는데 사용하는 데이터\n",
        "- 학습에 사용하는 데이터가 많을수록 예측, 추천 성능이 향상된다\n",
        " - 데이터 타입: 정형 데이터(테이블 데이터), 비정형 데이터(이미지, 텍스트, 센서 데이터 등)\n",
        "- 머신러닝 모델의 성능을 높이기 위해서는 원시(raw) 데이터로부터 적절한 학습 및 검증 데이터를 만드는 **데이터 전처리**가 반드시 필요하다\n",
        "\n",
        "### 머신러닝 모델\n",
        "- 입력 데이터(X)로부터 최적의 출력(y)을 얻는 소프트웨어\n",
        "- 최적의 출력이란 정답(label, target)을 잘 예측하는 것을 말한다\n",
        " - 최적의 출력을 얻기 위해서 모델을 구성하는 파라미터의 최적치를 찾는다(예: 선형 회귀에서 가중치 값)\n",
        "- 모델의 종류: 선형모델, 로지스틱 회귀, SVM, 결정트리, 랜덤 포레스트, kNN, 베이시언, 딥러닝 모델 (MLP, CNN, RNN 등)\n",
        "\n",
        "### 목적\n",
        "- 머신러닝의 목적은 다음 중 하나이다\n",
        " - 예측(predictive) 분석\n",
        "> 회귀 예측(regression): 수치를 예측  \n",
        "> 분류 예측(classification): 카테고리를 예측\n",
        " - 설명(descriptive)적 분석\n",
        " - 군집화(clustering)\n",
        " - 추천(recommendation)\n",
        " \n",
        "### 성능평가 (performance measure)\n",
        "- 모델이 원하는 동작을 잘 수행하는지를 평가하는 값으로, 주요 평가 척도는 다음과 같다\n",
        " - 회귀모델에서는 R-squared를 사용\n",
        " - 분류 모델에서는 정확도(accuracy), 정밀도(precision), 리콜(recall), f-1 점수, ROC-AUC 등을 사용 \n",
        " \n",
        "### 최적화기 (optimizer)\n",
        "- 학습을 통하여 모델 파라미터를 최적의 값으로 수렴시키는 알고리즘\n",
        "- 최적화 알고리즘으로는 경사하강법(GD: gradient descent)이 기본적으로 사용된다 \n",
        "\n",
        "### 손실함수 (loss function)\n",
        "- 최적화기는 손실함수를 최소화 하는 방향으로 동작한다\n",
        "- 즉, 손실함수는 최적화기의 동작이 잘 이루어지고 있는지를 모니터링하는 값이다\n",
        "- 손실함수로, 회귀 모델에서는 MSE(mean square error)를, 분류에서는 크로스 엔트로피(cross entrophy)를 주로 사용한다\n"
      ]
    },
    {
      "cell_type": "markdown",
      "metadata": {
        "id": "eT71GBzTd_kG"
      },
      "source": [
        "# 선형 회귀 예측 모델\n",
        "- 키로부터 몸무게를 예측하는 모델\n",
        "\n",
        "## 키 데이터 생성"
      ]
    },
    {
      "cell_type": "code",
      "metadata": {
        "id": "OhhpOOGhdPEG"
      },
      "source": [
        "import numpy as np\n",
        "import pandas as pd\n",
        "import matplotlib.pyplot as plt\n",
        "%matplotlib inline\n",
        "%config InlineBackend.figure_format = 'retina'"
      ],
      "execution_count": 2,
      "outputs": []
    },
    {
      "cell_type": "code",
      "metadata": {
        "colab": {
          "base_uri": "https://localhost:8080/",
          "height": 265
        },
        "id": "kFDNTEQzenZT",
        "outputId": "7241971f-be70-4762-bc63-80d17c2040d5"
      },
      "source": [
        "# 평균이 170 표준편차가 3cm인 200명의 키 데이터 생성\n",
        "n_samples = 200\n",
        "np.random.seed(19) # 랜덤한 패턴을 하나 선택하는 것\n",
        "x = np.random.randn(n_samples)*3 + 170\n",
        "plt.hist(x, bins=15, width=0.5)\n",
        "plt.show()"
      ],
      "execution_count": 6,
      "outputs": [
        {
          "output_type": "display_data",
          "data": {
            "image/png": "[encoded data removed]",
            "text/plain": [
              "<Figure size 432x288 with 1 Axes>"
            ]
          },
          "metadata": {
            "tags": [],
            "image/png": {
              "width": 369,
              "height": 248
            },
            "needs_background": "light"
          }
        }
      ]
    },
    {
      "cell_type": "markdown",
      "metadata": {
        "id": "58kE5Fx6enZU"
      },
      "source": [
        "## 몸무게 데이터 생성\n",
        "- 160cm이면 50kg, 190cm이면 90kg의 관계라고 가정하여 몸무게 샘플을 생성\n",
        "- 선형 관계를 가정하겠다   \n",
        "    $y = ax + b$  \n",
        "\n",
        " 50 = 160a + b  \n",
        " 90 = 190a + b  \n",
        " a= 40/30 = 4/3, b= 50 - 160*(4/3)  "
      ]
    },
    {
      "cell_type": "code",
      "metadata": {
        "id": "e-8tPKQTenZV",
        "outputId": "231ed29a-2775-491b-b32a-3609dd355104",
        "colab": {
          "base_uri": "https://localhost:8080/",
          "height": 300
        }
      },
      "source": [
        "# 몸무게 분포\n",
        "a = 4/3\n",
        "b = 50-160*(4/3)\n",
        "print(\"a:\",a); print(\"b:\",b)\n",
        "y = a*x + b\n",
        "plt.hist(y, bins=15, width=0.5)\n",
        "plt.show()"
      ],
      "execution_count": 8,
      "outputs": [
        {
          "output_type": "stream",
          "text": [
            "a: 1.3333333333333333\n",
            "b: -163.33333333333331\n"
          ],
          "name": "stdout"
        },
        {
          "output_type": "display_data",
          "data": {
            "image/png": "[encoded data removed]",
            "text/plain": [
              "<Figure size 432x288 with 1 Axes>"
            ]
          },
          "metadata": {
            "tags": [],
            "image/png": {
              "width": 369,
              "height": 248
            },
            "needs_background": "light"
          }
        }
      ]
    },
    {
      "cell_type": "code",
      "metadata": {
        "id": "fvIC6cicenZV",
        "outputId": "e6bcbba5-55db-432a-b3ac-65e6df22fcc9",
        "colab": {
          "base_uri": "https://localhost:8080/",
          "height": 282
        }
      },
      "source": [
        "# 키와 몸무게 산포도\n",
        "plt.scatter(x,y)"
      ],
      "execution_count": 9,
      "outputs": [
        {
          "output_type": "execute_result",
          "data": {
            "text/plain": [
              "<matplotlib.collections.PathCollection at 0x7f367ddbc350>"
            ]
          },
          "metadata": {
            "tags": []
          },
          "execution_count": 9
        },
        {
          "output_type": "display_data",
          "data": {
            "image/png": "[encoded data removed]",
            "text/plain": [
              "<Figure size 432x288 with 1 Axes>"
            ]
          },
          "metadata": {
            "tags": [],
            "image/png": {
              "width": 369,
              "height": 248
            },
            "needs_background": "light"
          }
        }
      ]
    },
    {
      "cell_type": "code",
      "metadata": {
        "colab": {
          "base_uri": "https://localhost:8080/",
          "height": 282
        },
        "id": "bPCv6MlTenZW",
        "outputId": "a096f7dc-1592-402e-aa5a-361647dbc3ae"
      },
      "source": [
        "# 실제로 키와 몸무게가 완전히 선형관계는 아니므로 가우시안 잡음을 더한다 (표준편차 2kg 가정)\n",
        "y = a*x + b + 2*np.random.randn(n_samples)\n",
        "plt.scatter(x,y, s=10)"
      ],
      "execution_count": 11,
      "outputs": [
        {
          "output_type": "execute_result",
          "data": {
            "text/plain": [
              "<matplotlib.collections.PathCollection at 0x7f367797b890>"
            ]
          },
          "metadata": {
            "tags": []
          },
          "execution_count": 11
        },
        {
          "output_type": "display_data",
          "data": {
            "image/png": "[encoded data removed]",
            "text/plain": [
              "<Figure size 432x288 with 1 Axes>"
            ]
          },
          "metadata": {
            "tags": [],
            "image/png": {
              "width": 369,
              "height": 248
            },
            "needs_background": "light"
          }
        }
      ]
    },
    {
      "cell_type": "code",
      "metadata": {
        "colab": {
          "base_uri": "https://localhost:8080/"
        },
        "id": "-_G1Qr6TdPEM",
        "outputId": "bfba0a78-6a76-426b-edd4-058b1bafba2c"
      },
      "source": [
        "# 생성된 키-몸무게 데이터의 상관 계수\n",
        "np.corrcoef(x,y)"
      ],
      "execution_count": 12,
      "outputs": [
        {
          "output_type": "execute_result",
          "data": {
            "text/plain": [
              "array([[1.        , 0.88758575],\n",
              "       [0.88758575, 1.        ]])"
            ]
          },
          "metadata": {
            "tags": []
          },
          "execution_count": 12
        }
      ]
    },
    {
      "cell_type": "code",
      "metadata": {
        "id": "AcNDGrT6enZX"
      },
      "source": [
        "# 데이터 백업\n",
        "x_height = x.copy()\n",
        "y_weight = y.copy()"
      ],
      "execution_count": 13,
      "outputs": []
    },
    {
      "cell_type": "markdown",
      "metadata": {
        "id": "1NzjNIN1enZX"
      },
      "source": [
        "# 모델 학습과 검증\n",
        "\n",
        "## 학습 및 검증 데이터 나누기\n",
        "- 주어진 샘플 데이터(X, y)를 훈련용과 검증용으로 랜덤하게 나누기 위해서 train_test_split 함수를 주로 사용한다\n",
        " - 샘플의 순서를 랜덤하게 섞어서 X_train, X_test 등으로 나눈다"
      ]
    },
    {
      "cell_type": "markdown",
      "metadata": {
        "id": "EMvIgpf3enZY"
      },
      "source": [
        "<img src=\"https://raw.githubusercontent.com/data-labs/image/main/%E1%84%89%E1%85%B3%E1%84%8F%E1%85%B3%E1%84%85%E1%85%B5%E1%86%AB%E1%84%89%E1%85%A3%E1%86%BA%202020-12-29%20%E1%84%8B%E1%85%A9%E1%84%92%E1%85%AE%2011.45.47.png?raw=1\" width=300 align='left'>"
      ]
    },
    {
      "cell_type": "markdown",
      "metadata": {
        "id": "6aZ7PsedenZY"
      },
      "source": [
        "### train_test_split\n",
        "- 훈련, 검증 데이터를 나누는 함수 train_test_split의 사용법을 배운다"
      ]
    },
    {
      "cell_type": "code",
      "metadata": {
        "id": "sNl5xjAienZY",
        "outputId": "45f06287-dfb1-48f2-ab8d-84540f3b8daa"
      },
      "source": [
        "from sklearn.model_selection import train_test_split\n",
        "x = np.arange(10)\n",
        "x"
      ],
      "execution_count": null,
      "outputs": [
        {
          "output_type": "execute_result",
          "data": {
            "text/plain": [
              "array([0, 1, 2, 3, 4, 5, 6, 7, 8, 9])"
            ]
          },
          "metadata": {
            "tags": []
          },
          "execution_count": 8
        }
      ]
    },
    {
      "cell_type": "code",
      "metadata": {
        "id": "uQ_vvWiJenZZ",
        "outputId": "1c73e554-eb7e-4277-81cc-a7730f70cfdc"
      },
      "source": [
        "# train_test_split는 인자로 주어진 데이터를 랜덤하게 75%와 25% 비율로 나눈다\n",
        "x_train, x_test = train_test_split(x)\n",
        "x_train, x_test"
      ],
      "execution_count": null,
      "outputs": [
        {
          "output_type": "execute_result",
          "data": {
            "text/plain": [
              "(array([9, 7, 3, 1, 2, 6, 0]), array([8, 5, 4]))"
            ]
          },
          "metadata": {
            "tags": []
          },
          "execution_count": 9
        }
      ]
    },
    {
      "cell_type": "code",
      "metadata": {
        "id": "SnPwaJJGenZZ",
        "outputId": "ce7bf6ff-04d6-47b0-9f29-7fd7f8c8e64e"
      },
      "source": [
        "y = x*10\n",
        "y"
      ],
      "execution_count": null,
      "outputs": [
        {
          "output_type": "execute_result",
          "data": {
            "text/plain": [
              "array([ 0, 10, 20, 30, 40, 50, 60, 70, 80, 90])"
            ]
          },
          "metadata": {
            "tags": []
          },
          "execution_count": 10
        }
      ]
    },
    {
      "cell_type": "markdown",
      "metadata": {
        "id": "UruUkLx7enZZ"
      },
      "source": [
        "- 인자로 두 세트의 데이터를 주면 행을 맞추어서 나눈다"
      ]
    },
    {
      "cell_type": "code",
      "metadata": {
        "id": "YDo54zOlenZa"
      },
      "source": [
        "# 검증 데이터 비율을 변경할 수 있다\n",
        "x_train, x_test, y_train, y_test = train_test_split(x, y, test_size=0.4)"
      ],
      "execution_count": null,
      "outputs": []
    },
    {
      "cell_type": "code",
      "metadata": {
        "id": "TZEjOfBsenZa",
        "outputId": "cdd974c1-3c14-432b-c1a4-7632c093a922"
      },
      "source": [
        "x_train, x_test"
      ],
      "execution_count": null,
      "outputs": [
        {
          "output_type": "execute_result",
          "data": {
            "text/plain": [
              "(array([9, 8, 4, 5, 0, 3]), array([6, 1, 7, 2]))"
            ]
          },
          "metadata": {
            "tags": []
          },
          "execution_count": 12
        }
      ]
    },
    {
      "cell_type": "code",
      "metadata": {
        "id": "fKLoKuf5enZa",
        "outputId": "5f10d17b-d587-4f1c-d411-80641de0dd49"
      },
      "source": [
        "# 랜덤하게 shuffling되는 순서가 X, y에 대해서 유지된다\n",
        "y_train, y_test"
      ],
      "execution_count": null,
      "outputs": [
        {
          "output_type": "execute_result",
          "data": {
            "text/plain": [
              "(array([90, 80, 40, 50,  0, 30]), array([60, 10, 70, 20]))"
            ]
          },
          "metadata": {
            "tags": []
          },
          "execution_count": 13
        }
      ]
    },
    {
      "cell_type": "code",
      "metadata": {
        "id": "TzmHZfnienZb",
        "outputId": "24937a1c-dca0-40ef-a1eb-555558575170"
      },
      "source": [
        "# 훈련 데이터 셋\n",
        "pd.DataFrame({'x_train':x_train, 'y_train':y_train})"
      ],
      "execution_count": null,
      "outputs": [
        {
          "output_type": "execute_result",
          "data": {
            "text/html": [
              "<div>\n",
              "<style scoped>\n",
              "    .dataframe tbody tr th:only-of-type {\n",
              "        vertical-align: middle;\n",
              "    }\n",
              "\n",
              "    .dataframe tbody tr th {\n",
              "        vertical-align: top;\n",
              "    }\n",
              "\n",
              "    .dataframe thead th {\n",
              "        text-align: right;\n",
              "    }\n",
              "</style>\n",
              "<table border=\"1\" class=\"dataframe\">\n",
              "  <thead>\n",
              "    <tr style=\"text-align: right;\">\n",
              "      <th></th>\n",
              "      <th>x_train</th>\n",
              "      <th>y_train</th>\n",
              "    </tr>\n",
              "  </thead>\n",
              "  <tbody>\n",
              "    <tr>\n",
              "      <th>0</th>\n",
              "      <td>9</td>\n",
              "      <td>90</td>\n",
              "    </tr>\n",
              "    <tr>\n",
              "      <th>1</th>\n",
              "      <td>8</td>\n",
              "      <td>80</td>\n",
              "    </tr>\n",
              "    <tr>\n",
              "      <th>2</th>\n",
              "      <td>4</td>\n",
              "      <td>40</td>\n",
              "    </tr>\n",
              "    <tr>\n",
              "      <th>3</th>\n",
              "      <td>5</td>\n",
              "      <td>50</td>\n",
              "    </tr>\n",
              "    <tr>\n",
              "      <th>4</th>\n",
              "      <td>0</td>\n",
              "      <td>0</td>\n",
              "    </tr>\n",
              "    <tr>\n",
              "      <th>5</th>\n",
              "      <td>3</td>\n",
              "      <td>30</td>\n",
              "    </tr>\n",
              "  </tbody>\n",
              "</table>\n",
              "</div>"
            ],
            "text/plain": [
              "   x_train  y_train\n",
              "0        9       90\n",
              "1        8       80\n",
              "2        4       40\n",
              "3        5       50\n",
              "4        0        0\n",
              "5        3       30"
            ]
          },
          "metadata": {
            "tags": []
          },
          "execution_count": 14
        }
      ]
    },
    {
      "cell_type": "code",
      "metadata": {
        "id": "Qmq-zcqwenZb",
        "outputId": "d4448f96-81c1-4542-a9e5-a7ec9540f2da"
      },
      "source": [
        "# 검증 데이터 셋\n",
        "pd.DataFrame({'x_test':x_test, 'y_test':y_test})"
      ],
      "execution_count": null,
      "outputs": [
        {
          "output_type": "execute_result",
          "data": {
            "text/html": [
              "<div>\n",
              "<style scoped>\n",
              "    .dataframe tbody tr th:only-of-type {\n",
              "        vertical-align: middle;\n",
              "    }\n",
              "\n",
              "    .dataframe tbody tr th {\n",
              "        vertical-align: top;\n",
              "    }\n",
              "\n",
              "    .dataframe thead th {\n",
              "        text-align: right;\n",
              "    }\n",
              "</style>\n",
              "<table border=\"1\" class=\"dataframe\">\n",
              "  <thead>\n",
              "    <tr style=\"text-align: right;\">\n",
              "      <th></th>\n",
              "      <th>x_test</th>\n",
              "      <th>y_test</th>\n",
              "    </tr>\n",
              "  </thead>\n",
              "  <tbody>\n",
              "    <tr>\n",
              "      <th>0</th>\n",
              "      <td>6</td>\n",
              "      <td>60</td>\n",
              "    </tr>\n",
              "    <tr>\n",
              "      <th>1</th>\n",
              "      <td>1</td>\n",
              "      <td>10</td>\n",
              "    </tr>\n",
              "    <tr>\n",
              "      <th>2</th>\n",
              "      <td>7</td>\n",
              "      <td>70</td>\n",
              "    </tr>\n",
              "    <tr>\n",
              "      <th>3</th>\n",
              "      <td>2</td>\n",
              "      <td>20</td>\n",
              "    </tr>\n",
              "  </tbody>\n",
              "</table>\n",
              "</div>"
            ],
            "text/plain": [
              "   x_test  y_test\n",
              "0       6      60\n",
              "1       1      10\n",
              "2       7      70\n",
              "3       2      20"
            ]
          },
          "metadata": {
            "tags": []
          },
          "execution_count": 15
        }
      ]
    },
    {
      "cell_type": "markdown",
      "metadata": {
        "id": "NbBmqG7KenZb"
      },
      "source": [
        "## 키-몸무게 훈련 및 검증 데이터 나누기\n",
        "- 키, 몸무게 전체 샘플 200개를 훈련용 150개, 검증용 50개로 나눈다"
      ]
    },
    {
      "cell_type": "code",
      "metadata": {
        "id": "fogRjkE-enZc"
      },
      "source": [
        "# x_height,y_weight를 사용한다\n",
        "x_train, x_test, y_train, y_test = train_test_split(x_height,y_weight,random_state=19)"
      ],
      "execution_count": null,
      "outputs": []
    },
    {
      "cell_type": "code",
      "metadata": {
        "id": "1yZvKzW2enZc",
        "outputId": "9a27ae58-52de-4bcd-df63-861241c36827"
      },
      "source": [
        "x_train.shape, x_test.shape, y_train.shape, y_test.shape"
      ],
      "execution_count": null,
      "outputs": [
        {
          "output_type": "execute_result",
          "data": {
            "text/plain": [
              "((150,), (50,), (150,), (50,))"
            ]
          },
          "metadata": {
            "tags": []
          },
          "execution_count": 17
        }
      ]
    },
    {
      "cell_type": "markdown",
      "metadata": {
        "id": "avs2d2gBenZc"
      },
      "source": [
        "## 모델 생성, 학습, 사용 절차\n",
        "- (1) 머신러닝에서 사용할 모델을 선택하고 생성한다\n",
        "- (2) 훈련 데이터를 사용하여 모델을 학습시킨다 (최적의 파라미터를 구한다)\n",
        "- (3) 검증 데이터를 사용하여 모델의 동작을 검증하고 성능을 평가한다\n",
        "- (4) 모델 훈련이나 검증에 한번도 사용하지 않은 별도의(hold out) 테스트 데이터를 사용하여 모델 성능을 최종 평가한다"
      ]
    },
    {
      "cell_type": "markdown",
      "metadata": {
        "id": "FCvpoFgKenZc"
      },
      "source": [
        "<img src =\"https://raw.githubusercontent.com/data-labs/image/main/%E1%84%89%E1%85%B3%E1%84%8F%E1%85%B3%E1%84%85%E1%85%B5%E1%86%AB%E1%84%89%E1%85%A3%E1%86%BA%202021-01-09%20%E1%84%8B%E1%85%A9%E1%84%92%E1%85%AE%204.02.11.png?raw=1\" width=450 align='left'>"
      ]
    },
    {
      "cell_type": "code",
      "metadata": {
        "id": "gxnEVcMaenZd",
        "outputId": "44c59b57-b5af-49f5-c624-ad4331030b99"
      },
      "source": [
        "from sklearn.linear_model import LinearRegression\n",
        "model = LinearRegression() # (1) 모델 선택 및 생성\n",
        "model.fit(x_train.reshape(-1,1), y_train) # (2) 학습 (훈련)"
      ],
      "execution_count": null,
      "outputs": [
        {
          "output_type": "execute_result",
          "data": {
            "text/plain": [
              "LinearRegression(copy_X=True, fit_intercept=True, n_jobs=None, normalize=False)"
            ]
          },
          "metadata": {
            "tags": []
          },
          "execution_count": 18
        }
      ]
    },
    {
      "cell_type": "markdown",
      "metadata": {
        "id": "hPsN1NsZenZd"
      },
      "source": [
        "### 배열의 구조 변경\n",
        "\n",
        "- 파이썬 머신러닝 모델에서 입력 데이터(X)는 최소한 2차원 이상의 배열을 사용해야 한다\n",
        "- reshape()을 사용하여 1차원 배열을 2차원으로 변형했다"
      ]
    },
    {
      "cell_type": "code",
      "metadata": {
        "id": "M93comDRenZd",
        "outputId": "2c58bc51-2088-423a-b982-96dbda6b6e81"
      },
      "source": [
        "# reshape 사용 예시\n",
        "z = np.arange(12)\n",
        "z"
      ],
      "execution_count": null,
      "outputs": [
        {
          "output_type": "execute_result",
          "data": {
            "text/plain": [
              "array([ 0,  1,  2,  3,  4,  5,  6,  7,  8,  9, 10, 11])"
            ]
          },
          "metadata": {
            "tags": []
          },
          "execution_count": 19
        }
      ]
    },
    {
      "cell_type": "code",
      "metadata": {
        "scrolled": true,
        "id": "9KMCl_6DenZd",
        "outputId": "8a585c6b-c2f1-4eb5-da45-9f99555e8556"
      },
      "source": [
        "print(z.reshape(3,4))\n",
        "print(z.reshape(6,2))\n",
        "print(z.reshape(1,12))"
      ],
      "execution_count": null,
      "outputs": [
        {
          "output_type": "stream",
          "text": [
            "[[ 0  1  2  3]\n",
            " [ 4  5  6  7]\n",
            " [ 8  9 10 11]]\n",
            "[[ 0  1]\n",
            " [ 2  3]\n",
            " [ 4  5]\n",
            " [ 6  7]\n",
            " [ 8  9]\n",
            " [10 11]]\n",
            "[[ 0  1  2  3  4  5  6  7  8  9 10 11]]\n"
          ],
          "name": "stdout"
        }
      ]
    },
    {
      "cell_type": "code",
      "metadata": {
        "id": "NO2d-XaPenZe",
        "outputId": "b9d548c4-92e4-4b1e-caaa-26454a410969"
      },
      "source": [
        "# reshape함수에서 인자 -1를 사용하면 이는 미지수이며 데이터 크기에 맞추라는 뜻이다\n",
        "print(z.reshape(-1,4))\n",
        "print(z.reshape(-1,1))"
      ],
      "execution_count": null,
      "outputs": [
        {
          "output_type": "stream",
          "text": [
            "[[ 0  1  2  3]\n",
            " [ 4  5  6  7]\n",
            " [ 8  9 10 11]]\n",
            "[[ 0]\n",
            " [ 1]\n",
            " [ 2]\n",
            " [ 3]\n",
            " [ 4]\n",
            " [ 5]\n",
            " [ 6]\n",
            " [ 7]\n",
            " [ 8]\n",
            " [ 9]\n",
            " [10]\n",
            " [11]]\n"
          ],
          "name": "stdout"
        }
      ]
    },
    {
      "cell_type": "markdown",
      "metadata": {
        "id": "KcCTA465e70_"
      },
      "source": [
        "## 모델을 예측에 사용\n",
        "- 새로운 키 데이터(X)를 주었을 때 이 모델이 예측한 몸무게 보기\n",
        "- 모델이 목적 변수(y)를 추정하는 것을 추론(inference)라고 한다"
      ]
    },
    {
      "cell_type": "code",
      "metadata": {
        "id": "wFikaZEdenZe",
        "outputId": "f2ee15d1-7e5b-46e6-dc9d-8264fc95c62d"
      },
      "source": [
        "# 모델이 찾은 (최적화 한) 파라미터 a, b의 추정 값\n",
        "model.coef_ , model.intercept_"
      ],
      "execution_count": null,
      "outputs": [
        {
          "output_type": "execute_result",
          "data": {
            "text/plain": [
              "(array([1.2703997]), -142.67865150228494)"
            ]
          },
          "metadata": {
            "tags": []
          },
          "execution_count": 22
        }
      ]
    },
    {
      "cell_type": "code",
      "metadata": {
        "colab": {
          "base_uri": "https://localhost:8080/",
          "height": 50
        },
        "id": "jNa4akPSdPEQ",
        "outputId": "173b40d0-866b-4e95-e081-7415264abfc5"
      },
      "source": [
        "# 최초 몸무게 데이터 생성시에 사용된 계수 (실제 파라미터 값)\n",
        "a, b"
      ],
      "execution_count": null,
      "outputs": [
        {
          "output_type": "execute_result",
          "data": {
            "text/plain": [
              "(1.3333333333333333, -153.33333333333331)"
            ]
          },
          "metadata": {
            "tags": []
          },
          "execution_count": 23
        }
      ]
    },
    {
      "cell_type": "code",
      "metadata": {
        "colab": {
          "base_uri": "https://localhost:8080/",
          "height": 34
        },
        "id": "WWkkUZaWeuik",
        "scrolled": true,
        "outputId": "3b45fb11-4a52-43cd-db80-7b649e75210b"
      },
      "source": [
        "# 임의의 키 값에 대한 몸무게 예측\n",
        "test_input = [[165],[170],[180]]\n",
        "model.predict(test_input).round(2) # 예측 결과"
      ],
      "execution_count": null,
      "outputs": [
        {
          "output_type": "execute_result",
          "data": {
            "text/plain": [
              "array([66.94, 73.29, 85.99])"
            ]
          },
          "metadata": {
            "tags": []
          },
          "execution_count": 24
        }
      ]
    },
    {
      "cell_type": "markdown",
      "metadata": {
        "id": "PukRO924enZf"
      },
      "source": [
        "## 회귀 직선\n",
        "- $\\hat{y} = b +a_{1}x_{1}$  로 표현되는 선형 모델이 단변수인 경우(현재 키 값만 있음)는 2차원 평면상의 직선으로 표현된다\n",
        " - 입력 변수가 다차원이면 회귀 직선이 다차원이 되어 평면에 그릴 수 없다\n",
        "  > $\\hat{y} = b +a_{1}x_{1} + a_{2}x_{2} + a_{3}x_{3} + ...$"
      ]
    },
    {
      "cell_type": "markdown",
      "metadata": {
        "id": "lxRjxXX2enZf"
      },
      "source": [
        "## 훈련, 검증 데이터와 회귀 직선"
      ]
    },
    {
      "cell_type": "code",
      "metadata": {
        "id": "iM2tBlzrenZf",
        "outputId": "06784b32-c0d2-4b1a-c1ec-5c086c29e3f2"
      },
      "source": [
        "plt.figure(figsize=(10,4))\n",
        "\n",
        "# 회귀직선\n",
        "xs = np.linspace(160,180,2)\n",
        "ys = model.coef_*xs + model.intercept_ \n",
        "\n",
        "# 훈련 데이터 분포와 회귀직선\n",
        "plt.subplot(1,2,1)  \n",
        "plt.title('Train Data')\n",
        "plt.plot(xs,ys, c='r')\n",
        "plt.scatter(x_train,y_train, s=10)\n",
        "\n",
        "# 검증 데이터에 적용될 회귀직선\n",
        "plt.subplot(1,2,2)  \n",
        "plt.title('Test Data')\n",
        "plt.plot(xs,ys, c='r')\n",
        "plt.scatter(x_test,y_test, s=10)"
      ],
      "execution_count": null,
      "outputs": [
        {
          "output_type": "execute_result",
          "data": {
            "text/plain": [
              "<matplotlib.collections.PathCollection at 0x7ff1362bf9d0>"
            ]
          },
          "metadata": {
            "tags": []
          },
          "execution_count": 25
        },
        {
          "output_type": "display_data",
          "data": {
            "image/png": "[encoded data removed]",
            "text/plain": [
              "<Figure size 720x288 with 2 Axes>"
            ]
          },
          "metadata": {
            "tags": [],
            "image/png": {
              "height": 263,
              "width": 592
            },
            "needs_background": "light"
          }
        }
      ]
    },
    {
      "cell_type": "markdown",
      "metadata": {
        "id": "cmoYWb7aenZg"
      },
      "source": [
        "## 동작 검증 및 성능평가\n",
        "- 학습시킨 모델을 사용하여 검증 데이터에 대한 예측값을 구하고 모델의 성능을 평가한다 "
      ]
    },
    {
      "cell_type": "code",
      "metadata": {
        "id": "u8Gtd2qNenZi"
      },
      "source": [
        "# 예측치 \n",
        "y_pred = model.predict(x_test.reshape(-1,1))"
      ],
      "execution_count": null,
      "outputs": []
    },
    {
      "cell_type": "code",
      "metadata": {
        "id": "DIpdacppenZj",
        "outputId": "8cce89d5-b388-40a9-92d7-aa917f517b51"
      },
      "source": [
        "df = pd.DataFrame({'키':x_test, '몸무게예측값':y_pred, '실제값':y_test})\n",
        "df[:5]"
      ],
      "execution_count": null,
      "outputs": [
        {
          "output_type": "execute_result",
          "data": {
            "text/html": [
              "<div>\n",
              "<style scoped>\n",
              "    .dataframe tbody tr th:only-of-type {\n",
              "        vertical-align: middle;\n",
              "    }\n",
              "\n",
              "    .dataframe tbody tr th {\n",
              "        vertical-align: top;\n",
              "    }\n",
              "\n",
              "    .dataframe thead th {\n",
              "        text-align: right;\n",
              "    }\n",
              "</style>\n",
              "<table border=\"1\" class=\"dataframe\">\n",
              "  <thead>\n",
              "    <tr style=\"text-align: right;\">\n",
              "      <th></th>\n",
              "      <th>키</th>\n",
              "      <th>몸무게예측값</th>\n",
              "      <th>실제값</th>\n",
              "    </tr>\n",
              "  </thead>\n",
              "  <tbody>\n",
              "    <tr>\n",
              "      <th>0</th>\n",
              "      <td>172.827043</td>\n",
              "      <td>76.880772</td>\n",
              "      <td>76.465420</td>\n",
              "    </tr>\n",
              "    <tr>\n",
              "      <th>1</th>\n",
              "      <td>170.089681</td>\n",
              "      <td>73.403228</td>\n",
              "      <td>74.999736</td>\n",
              "    </tr>\n",
              "    <tr>\n",
              "      <th>2</th>\n",
              "      <td>168.550064</td>\n",
              "      <td>71.447299</td>\n",
              "      <td>73.934757</td>\n",
              "    </tr>\n",
              "    <tr>\n",
              "      <th>3</th>\n",
              "      <td>170.611010</td>\n",
              "      <td>74.065524</td>\n",
              "      <td>75.500864</td>\n",
              "    </tr>\n",
              "    <tr>\n",
              "      <th>4</th>\n",
              "      <td>166.952023</td>\n",
              "      <td>69.417148</td>\n",
              "      <td>68.573889</td>\n",
              "    </tr>\n",
              "  </tbody>\n",
              "</table>\n",
              "</div>"
            ],
            "text/plain": [
              "            키     몸무게예측값        실제값\n",
              "0  172.827043  76.880772  76.465420\n",
              "1  170.089681  73.403228  74.999736\n",
              "2  168.550064  71.447299  73.934757\n",
              "3  170.611010  74.065524  75.500864\n",
              "4  166.952023  69.417148  68.573889"
            ]
          },
          "metadata": {
            "tags": []
          },
          "execution_count": 27
        }
      ]
    },
    {
      "cell_type": "code",
      "metadata": {
        "id": "Sf4GqJiZenZj",
        "outputId": "9a64ca3c-c3be-44df-d300-abbc487516d7"
      },
      "source": [
        "df['예측오차'] = y_pred - y_test\n",
        "df[:5]"
      ],
      "execution_count": null,
      "outputs": [
        {
          "output_type": "execute_result",
          "data": {
            "text/html": [
              "<div>\n",
              "<style scoped>\n",
              "    .dataframe tbody tr th:only-of-type {\n",
              "        vertical-align: middle;\n",
              "    }\n",
              "\n",
              "    .dataframe tbody tr th {\n",
              "        vertical-align: top;\n",
              "    }\n",
              "\n",
              "    .dataframe thead th {\n",
              "        text-align: right;\n",
              "    }\n",
              "</style>\n",
              "<table border=\"1\" class=\"dataframe\">\n",
              "  <thead>\n",
              "    <tr style=\"text-align: right;\">\n",
              "      <th></th>\n",
              "      <th>키</th>\n",
              "      <th>몸무게예측값</th>\n",
              "      <th>실제값</th>\n",
              "      <th>예측오차</th>\n",
              "    </tr>\n",
              "  </thead>\n",
              "  <tbody>\n",
              "    <tr>\n",
              "      <th>0</th>\n",
              "      <td>172.827043</td>\n",
              "      <td>76.880772</td>\n",
              "      <td>76.465420</td>\n",
              "      <td>0.415352</td>\n",
              "    </tr>\n",
              "    <tr>\n",
              "      <th>1</th>\n",
              "      <td>170.089681</td>\n",
              "      <td>73.403228</td>\n",
              "      <td>74.999736</td>\n",
              "      <td>-1.596507</td>\n",
              "    </tr>\n",
              "    <tr>\n",
              "      <th>2</th>\n",
              "      <td>168.550064</td>\n",
              "      <td>71.447299</td>\n",
              "      <td>73.934757</td>\n",
              "      <td>-2.487458</td>\n",
              "    </tr>\n",
              "    <tr>\n",
              "      <th>3</th>\n",
              "      <td>170.611010</td>\n",
              "      <td>74.065524</td>\n",
              "      <td>75.500864</td>\n",
              "      <td>-1.435340</td>\n",
              "    </tr>\n",
              "    <tr>\n",
              "      <th>4</th>\n",
              "      <td>166.952023</td>\n",
              "      <td>69.417148</td>\n",
              "      <td>68.573889</td>\n",
              "      <td>0.843259</td>\n",
              "    </tr>\n",
              "  </tbody>\n",
              "</table>\n",
              "</div>"
            ],
            "text/plain": [
              "            키     몸무게예측값        실제값      예측오차\n",
              "0  172.827043  76.880772  76.465420  0.415352\n",
              "1  170.089681  73.403228  74.999736 -1.596507\n",
              "2  168.550064  71.447299  73.934757 -2.487458\n",
              "3  170.611010  74.065524  75.500864 -1.435340\n",
              "4  166.952023  69.417148  68.573889  0.843259"
            ]
          },
          "metadata": {
            "tags": []
          },
          "execution_count": 28
        }
      ]
    },
    {
      "cell_type": "markdown",
      "metadata": {
        "id": "rsJhLaG0enZj"
      },
      "source": [
        "# 모델 성능 평가\n",
        "- 회귀 모델의 성능을 평가하는 척도로 기본적으로 R-Squared를 사용하며 MAE, RMSE 등을 참고로 본다\n",
        " - MAE: mean absolute error  \n",
        " - MSE: mean squared error    \n",
        " - RMSE: root MSE  "
      ]
    },
    {
      "cell_type": "markdown",
      "metadata": {
        "id": "Ko_6NGz8enZk"
      },
      "source": [
        "$MAE = $$1\\over{N}$$ \\sum |y_{i} - \\hat{y}|$\n",
        "\n",
        "$MSE = $$1\\over{N}$$ \\sum (y_{i} - \\hat{y})^{2}$\n",
        "\n",
        "$RMSE = \\sqrt{MSE}$\n",
        "\n",
        "$R^{2} = 1$-$\\sum(y_{i}-\\hat{y})^{2}\\over{\\sum(y_{i}-\\bar{y})^{2}}$ $= 1$-$MSE\\over{Variance}$  \n",
        " >  $y$ :  실제값, $\\hat{y}$ :  예측치, $\\bar{y}$ :  평균치\n",
        " \n",
        "### R-Squared\n",
        "- 회귀 성능의 기본적인 평가 지표\n",
        "- MSE를 분산으로 정규화한 값을 사용한다\n",
        "- R-sqaured 값은 1에 가까울수록 완벽한 예측을 수행한 것이고, 0 근처이면 오차 평균치가 표준편차 정도인 경우이다"
      ]
    },
    {
      "cell_type": "code",
      "metadata": {
        "id": "zTZWqcHwenZk",
        "outputId": "6c3d3b06-c5ec-45c5-cc7a-31c8edbe8b57"
      },
      "source": [
        "# MAE (단위: kg)\n",
        "np.abs(y_pred - y_test).mean()"
      ],
      "execution_count": null,
      "outputs": [
        {
          "output_type": "execute_result",
          "data": {
            "text/plain": [
              "1.5504014320846853"
            ]
          },
          "metadata": {
            "tags": []
          },
          "execution_count": 29
        }
      ]
    },
    {
      "cell_type": "code",
      "metadata": {
        "id": "6X93WehHenZk",
        "outputId": "27ba20b5-e3c6-4c0c-f2cb-2a6c5a993d21"
      },
      "source": [
        "# RMSE (단위:kg)\n",
        "np.sqrt(((y_pred - y_test)**2).mean())"
      ],
      "execution_count": null,
      "outputs": [
        {
          "output_type": "execute_result",
          "data": {
            "text/plain": [
              "1.8980745977991238"
            ]
          },
          "metadata": {
            "tags": []
          },
          "execution_count": 30
        }
      ]
    },
    {
      "cell_type": "code",
      "metadata": {
        "id": "AmILCFnNenZk",
        "outputId": "35b75fd0-6535-4fae-9c28-b880024a242f"
      },
      "source": [
        "# R-sqaured 직접 계산\n",
        "1 - ((y_test - y_pred)**2).sum()/((y_test - y_test.mean())**2).sum()"
      ],
      "execution_count": null,
      "outputs": [
        {
          "output_type": "execute_result",
          "data": {
            "text/plain": [
              "0.7425970170964126"
            ]
          },
          "metadata": {
            "tags": []
          },
          "execution_count": 31
        }
      ]
    },
    {
      "cell_type": "code",
      "metadata": {
        "id": "bkgUZobGenZl",
        "outputId": "d8c519c4-b6e3-4847-db7a-c100d2bc66e9"
      },
      "source": [
        "# 검증 데이터에 대해서 score()함수를 사용하면 R-sqaured를 알려준다\n",
        "model.score(x_test.reshape(-1,1), y_test)"
      ],
      "execution_count": null,
      "outputs": [
        {
          "output_type": "execute_result",
          "data": {
            "text/plain": [
              "0.7425970170964126"
            ]
          },
          "metadata": {
            "tags": []
          },
          "execution_count": 32
        }
      ]
    },
    {
      "cell_type": "markdown",
      "metadata": {
        "id": "BaYY0bsTenZl"
      },
      "source": [
        "## 회귀모델의 손실함수\n",
        "- 손실함수란 모델의 최적화 과정에서 \"줄이는 대상값\"을 말한다\n",
        "- 회귀 모델은 손실함수로 대부분 MSE를 사용한다. 즉, MSE가 최소화되도록 최적화기가 동작한다\n",
        "- 머신러닝의 목적에 따라 손실함수로 MAE나, MSLE (mean sqaure log error)를 사용하기도 한다"
      ]
    },
    {
      "cell_type": "code",
      "metadata": {
        "id": "5Qu7TvJeenZl"
      },
      "source": [
        ""
      ],
      "execution_count": null,
      "outputs": []
    }
  ]
}