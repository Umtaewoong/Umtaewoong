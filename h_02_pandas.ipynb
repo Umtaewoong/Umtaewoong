{
  "nbformat": 4,
  "nbformat_minor": 0,
  "metadata": {
    "colab": {
      "name": "g_03_pandas.ipynb",
      "provenance": [],
      "collapsed_sections": []
    },
    "kernelspec": {
      "display_name": "Python 3",
      "language": "python",
      "name": "python3"
    },
    "language_info": {
      "codemirror_mode": {
        "name": "ipython",
        "version": 3
      },
      "file_extension": ".py",
      "mimetype": "text/x-python",
      "name": "python",
      "nbconvert_exporter": "python",
      "pygments_lexer": "ipython3",
      "version": "3.7.6"
    },
    "toc": {
      "base_numbering": 1,
      "nav_menu": {},
      "number_sections": false,
      "sideBar": true,
      "skip_h1_title": false,
      "title_cell": "Table of Contents",
      "title_sidebar": "Contents",
      "toc_cell": false,
      "toc_position": {
        "height": "calc(100% - 180px)",
        "left": "10px",
        "top": "150px",
        "width": "165px"
      },
      "toc_section_display": true,
      "toc_window_display": false
    }
  },
  "cells": [
    {
      "cell_type": "markdown",
      "metadata": {
        "collapsed": true,
        "id": "7nB15GdZ9BLJ"
      },
      "source": [
        "# pandas\n",
        "- 마이크로소프트 액셀과 유사한 데이터프레임(DataFrame)을 사용하기 위해 필요\n",
        "- 데이터프레임은 데이터 처리와 분석에 가장 많이 사용되는 2차원 데이터 구조체\n",
        "- 1차원 데이터 구조체로는 리스트가 널리 사용된다"
      ]
    },
    {
      "cell_type": "markdown",
      "metadata": {
        "id": "f2L5AEczyp3u"
      },
      "source": [
        "## 데이터 프레임 만들기\n",
        "- 딕셔너리를 만든 후 이를 데이터프레임으로 바꾸는 방법\n",
        "- csv 파일을 읽어 만드는 방법\n",
        "- 액셀 파일을 읽어 만드는 방법\n",
        "- 배열, 리스트, 튜플로부터 만드는 방법"
      ]
    },
    {
      "cell_type": "code",
      "metadata": {
        "id": "nwT_IVMU9BLN",
        "outputId": "36964b17-b808-4d4c-f50c-11b85efcef4a"
      },
      "source": [
        "# 딕셔너리에서 만드는 방법\n",
        "import pandas as pd\n",
        "\n",
        "x = {'city': ['서울', '부산', '대구', '대전', '광주'],\n",
        "        'population': [990, 350, 250, 154, 150],\n",
        "        'temp': [13, 16, 14, 13, 15]}\n",
        "\n",
        "data = pd.DataFrame(x)\n",
        "data"
      ],
      "execution_count": null,
      "outputs": [
        {
          "output_type": "execute_result",
          "data": {
            "text/html": [
              "<div>\n",
              "<style scoped>\n",
              "    .dataframe tbody tr th:only-of-type {\n",
              "        vertical-align: middle;\n",
              "    }\n",
              "\n",
              "    .dataframe tbody tr th {\n",
              "        vertical-align: top;\n",
              "    }\n",
              "\n",
              "    .dataframe thead th {\n",
              "        text-align: right;\n",
              "    }\n",
              "</style>\n",
              "<table border=\"1\" class=\"dataframe\">\n",
              "  <thead>\n",
              "    <tr style=\"text-align: right;\">\n",
              "      <th></th>\n",
              "      <th>city</th>\n",
              "      <th>population</th>\n",
              "      <th>temp</th>\n",
              "    </tr>\n",
              "  </thead>\n",
              "  <tbody>\n",
              "    <tr>\n",
              "      <th>0</th>\n",
              "      <td>서울</td>\n",
              "      <td>990</td>\n",
              "      <td>13</td>\n",
              "    </tr>\n",
              "    <tr>\n",
              "      <th>1</th>\n",
              "      <td>부산</td>\n",
              "      <td>350</td>\n",
              "      <td>16</td>\n",
              "    </tr>\n",
              "    <tr>\n",
              "      <th>2</th>\n",
              "      <td>대구</td>\n",
              "      <td>250</td>\n",
              "      <td>14</td>\n",
              "    </tr>\n",
              "    <tr>\n",
              "      <th>3</th>\n",
              "      <td>대전</td>\n",
              "      <td>154</td>\n",
              "      <td>13</td>\n",
              "    </tr>\n",
              "    <tr>\n",
              "      <th>4</th>\n",
              "      <td>광주</td>\n",
              "      <td>150</td>\n",
              "      <td>15</td>\n",
              "    </tr>\n",
              "  </tbody>\n",
              "</table>\n",
              "</div>"
            ],
            "text/plain": [
              "  city  population  temp\n",
              "0   서울         990    13\n",
              "1   부산         350    16\n",
              "2   대구         250    14\n",
              "3   대전         154    13\n",
              "4   광주         150    15"
            ]
          },
          "metadata": {
            "tags": []
          },
          "execution_count": 1
        }
      ]
    },
    {
      "cell_type": "markdown",
      "metadata": {
        "id": "hQiN7gNQyp3z"
      },
      "source": [
        "- 딕셔너리의 키를 컬럼명으로, 값을 데이터로 사용한다\n",
        "- 인덱스(행 번호)가 자동으로 만들어진다"
      ]
    },
    {
      "cell_type": "code",
      "metadata": {
        "id": "0rPkik1fyp30",
        "outputId": "bb337e89-33e7-426f-9b7d-8730cb2246c9",
        "colab": {
          "base_uri": "https://localhost:8080/",
          "height": 186
        }
      },
      "source": [
        "# 데이터프레임의 구조 보기(shape)\n",
        "data.shape"
      ],
      "execution_count": 1,
      "outputs": [
        {
          "output_type": "error",
          "ename": "NameError",
          "evalue": "ignored",
          "traceback": [
            "\u001b[0;31m---------------------------------------------------------------------------\u001b[0m",
            "\u001b[0;31mNameError\u001b[0m                                 Traceback (most recent call last)",
            "\u001b[0;32m<ipython-input-1-760784ed9b60>\u001b[0m in \u001b[0;36m<module>\u001b[0;34m()\u001b[0m\n\u001b[1;32m      1\u001b[0m \u001b[0;31m# 데이터프레임의 구조 보기(shape)\u001b[0m\u001b[0;34m\u001b[0m\u001b[0;34m\u001b[0m\u001b[0;34m\u001b[0m\u001b[0m\n\u001b[0;32m----> 2\u001b[0;31m \u001b[0mdata\u001b[0m\u001b[0;34m.\u001b[0m\u001b[0mshape\u001b[0m\u001b[0;34m\u001b[0m\u001b[0;34m\u001b[0m\u001b[0m\n\u001b[0m",
            "\u001b[0;31mNameError\u001b[0m: name 'data' is not defined"
          ]
        }
      ]
    },
    {
      "cell_type": "code",
      "metadata": {
        "id": "x6hMYXEhyp30"
      },
      "source": [
        "# 샘플(행) 수  - 튜플의 첫번째 값을 본다\n",
        "data.shape[0]"
      ],
      "execution_count": null,
      "outputs": []
    },
    {
      "cell_type": "code",
      "metadata": {
        "id": "qdfpzAe9yp31"
      },
      "source": [
        "# 컬럼(열) 수 - 튜플의 두번째 값을 본다\n",
        "data.shape[1]"
      ],
      "execution_count": null,
      "outputs": []
    },
    {
      "cell_type": "code",
      "metadata": {
        "id": "2UdHb7uUyp31"
      },
      "source": [
        "# 컬럼명 모두 보기 (컬럼명은 특수 변수 Index로 표현된다)\n",
        "data.columns"
      ],
      "execution_count": null,
      "outputs": []
    },
    {
      "cell_type": "code",
      "metadata": {
        "scrolled": true,
        "id": "ZQXPErPZyp32"
      },
      "source": [
        "# 일부 컬럼만 보기\n",
        "data[['city', 'temp']]"
      ],
      "execution_count": null,
      "outputs": []
    },
    {
      "cell_type": "markdown",
      "metadata": {
        "id": "_dKy7FZbyp32"
      },
      "source": [
        "- 원본 데이터는 바뀌지 않는다"
      ]
    },
    {
      "cell_type": "code",
      "metadata": {
        "id": "o-zefvtRyp32"
      },
      "source": [
        "data"
      ],
      "execution_count": null,
      "outputs": []
    },
    {
      "cell_type": "code",
      "metadata": {
        "id": "FTBr5u9ayp33"
      },
      "source": [
        "# 별도 저장이 필요하면 새로운 변수에 저장한다\n",
        "data_part = data[['city', 'temp']]\n",
        "data_part"
      ],
      "execution_count": null,
      "outputs": []
    },
    {
      "cell_type": "markdown",
      "metadata": {
        "id": "U1dSY-83yp33"
      },
      "source": [
        "- 한 컬럼만 얻기\n",
        "- 컬럼이 하나인 데이터프레임은 시리즈(Series)라고 한다\n",
        " - 시리즈에도 인덱스가 붙어있다"
      ]
    },
    {
      "cell_type": "code",
      "metadata": {
        "scrolled": true,
        "id": "4yjayPQKyp33"
      },
      "source": [
        "data[\"temp\"]"
      ],
      "execution_count": null,
      "outputs": []
    },
    {
      "cell_type": "code",
      "metadata": {
        "id": "HqFQRBUbyp34"
      },
      "source": [
        "y = data.temp\n",
        "type(y)\n",
        "y"
      ],
      "execution_count": null,
      "outputs": []
    },
    {
      "cell_type": "code",
      "metadata": {
        "id": "MJM3aAoX9BLX",
        "scrolled": true
      },
      "source": [
        "# 컬럼(열) 순서 바꾸어 보기 (view)\n",
        "data[['city', 'temp', 'population']]"
      ],
      "execution_count": null,
      "outputs": []
    },
    {
      "cell_type": "code",
      "metadata": {
        "id": "SXw5sin4yp35"
      },
      "source": [
        "data"
      ],
      "execution_count": null,
      "outputs": []
    },
    {
      "cell_type": "markdown",
      "metadata": {
        "id": "ZXd5LpPlyp35"
      },
      "source": [
        "### 객체 사본 만들기\n",
        "- 복사본을 만들려면 copy()를 사용해야 한다\n",
        "- 복사본으로 이후 작업을 수행하고 원본은 보호하기 위해서"
      ]
    },
    {
      "cell_type": "code",
      "metadata": {
        "id": "jzuVfCp4yp35"
      },
      "source": [
        "# 사본 만들기\n",
        "df = data.copy()"
      ],
      "execution_count": null,
      "outputs": []
    },
    {
      "cell_type": "code",
      "metadata": {
        "id": "6ekuW50zyp35"
      },
      "source": [
        "# copy()를 사용하면 별도의 데이터셋이 만들어진다\n",
        "x = [1,2,3,4]\n",
        "y = x\n",
        "y"
      ],
      "execution_count": null,
      "outputs": []
    },
    {
      "cell_type": "code",
      "metadata": {
        "id": "cT_RjtIVyp35"
      },
      "source": [
        "x.append(5)\n",
        "x"
      ],
      "execution_count": null,
      "outputs": []
    },
    {
      "cell_type": "code",
      "metadata": {
        "id": "YOSLDAq4yp36"
      },
      "source": [
        "y"
      ],
      "execution_count": null,
      "outputs": []
    },
    {
      "cell_type": "markdown",
      "metadata": {
        "id": "DC3e99Dsyp36"
      },
      "source": [
        "## 인덱스\n",
        "- 인덱스는 행에 대한 접근을 쉽게 하기 위해 사용한다"
      ]
    },
    {
      "cell_type": "code",
      "metadata": {
        "id": "rwZIERS0yp36"
      },
      "source": [
        "df"
      ],
      "execution_count": null,
      "outputs": []
    },
    {
      "cell_type": "code",
      "metadata": {
        "id": "dRvumIRQyp36"
      },
      "source": [
        "df.index"
      ],
      "execution_count": null,
      "outputs": []
    },
    {
      "cell_type": "code",
      "metadata": {
        "id": "G-VLhfKw9BLc"
      },
      "source": [
        "# 인덱스를 컬럼에서 선택하기\n",
        "df.set_index('city')"
      ],
      "execution_count": null,
      "outputs": []
    },
    {
      "cell_type": "markdown",
      "metadata": {
        "id": "KzrIMtsVyp37"
      },
      "source": [
        "- 원본 데이터는 바뀌지 않는다\n",
        "- 파이썬의 데이터 복사 최소화 원칙"
      ]
    },
    {
      "cell_type": "code",
      "metadata": {
        "id": "n7yaHqoAyp37"
      },
      "source": [
        "df"
      ],
      "execution_count": null,
      "outputs": []
    },
    {
      "cell_type": "markdown",
      "metadata": {
        "id": "zbKKVtySyp37"
      },
      "source": [
        "- 수행 결과를 원본 데이터에 반영하려면 inplace=True 사용"
      ]
    },
    {
      "cell_type": "code",
      "metadata": {
        "scrolled": true,
        "id": "BxXzl3ggyp37"
      },
      "source": [
        "df.set_index('city', inplace=True)\n",
        "df"
      ],
      "execution_count": null,
      "outputs": []
    },
    {
      "cell_type": "markdown",
      "metadata": {
        "id": "Kpp0zJ6ayp37"
      },
      "source": [
        "### 인데스 원상복귀\n",
        "- reset_index 사용"
      ]
    },
    {
      "cell_type": "code",
      "metadata": {
        "id": "sFRdiiD2yp38"
      },
      "source": [
        "df.reset_index(inplace=True)\n",
        "df"
      ],
      "execution_count": null,
      "outputs": []
    },
    {
      "cell_type": "markdown",
      "metadata": {
        "id": "QrcClGA-yp38"
      },
      "source": [
        "## 컬럼 이름 바꾸기\n",
        "- columns 사용"
      ]
    },
    {
      "cell_type": "code",
      "metadata": {
        "id": "f7VPiR7Kyp38"
      },
      "source": [
        "df"
      ],
      "execution_count": null,
      "outputs": []
    },
    {
      "cell_type": "code",
      "metadata": {
        "id": "bH4z89WO9BLg"
      },
      "source": [
        "df.columns = ['도시','인구','날씨'] # 즉시 반영된다\n",
        "df"
      ],
      "execution_count": null,
      "outputs": []
    },
    {
      "cell_type": "markdown",
      "metadata": {
        "id": "0mty23vmyp38"
      },
      "source": [
        "## 샘플 추가\n",
        "- 데이터프레임 합치기 (보통 행 방향으로 합친다-샘플 추가)\n",
        "- 판다스의  concat() 사용"
      ]
    },
    {
      "cell_type": "code",
      "metadata": {
        "id": "7MPEs4-Syp38"
      },
      "source": [
        "x2 = {'city': ['인천', '울산'],\n",
        "        'population': [290, 120],\n",
        "        'temp': [12.7, 15.5]}\n",
        "df2 = pd.DataFrame(x2)\n",
        "df2"
      ],
      "execution_count": null,
      "outputs": []
    },
    {
      "cell_type": "code",
      "metadata": {
        "id": "g8AzPEfGyp39"
      },
      "source": [
        "df2.columns = ['도시','인구','날씨'] \n",
        "df2"
      ],
      "execution_count": null,
      "outputs": []
    },
    {
      "cell_type": "code",
      "metadata": {
        "id": "m6eS9UtWyp39"
      },
      "source": [
        "pd.concat([df, df2])"
      ],
      "execution_count": null,
      "outputs": []
    },
    {
      "cell_type": "code",
      "metadata": {
        "scrolled": true,
        "id": "6RMS2TYSyp39"
      },
      "source": [
        "# 데이터프레임을 합친다\n",
        "# 기존의 인덱스 번호는 무시하고 새로 인덱스 만들기\n",
        "df3 = pd.concat([df, df2], ignore_index=True)\n",
        "df3"
      ],
      "execution_count": null,
      "outputs": []
    },
    {
      "cell_type": "code",
      "metadata": {
        "id": "9k563muRyp39"
      },
      "source": [
        "# 데이터 백업\n",
        "df = df3.copy()"
      ],
      "execution_count": null,
      "outputs": []
    },
    {
      "cell_type": "code",
      "metadata": {
        "id": "7T47Xog_yp39"
      },
      "source": [
        "# 인덱스를 컬럼에서 새로 선택한다\n",
        "df.set_index('도시', inplace=True)\n",
        "df"
      ],
      "execution_count": null,
      "outputs": []
    },
    {
      "cell_type": "code",
      "metadata": {
        "id": "iBKroVLqyp3-"
      },
      "source": [
        "# 인덱스 보기 (인덱스는 특수 변수 Index로 표현된다)\n",
        "df.index"
      ],
      "execution_count": null,
      "outputs": []
    },
    {
      "cell_type": "code",
      "metadata": {
        "id": "qi3YOcciyp3-"
      },
      "source": [
        "# 세번째 인덱스 보기\n",
        "df.index[3]"
      ],
      "execution_count": null,
      "outputs": []
    },
    {
      "cell_type": "markdown",
      "metadata": {
        "id": "_My2THPiyp3-"
      },
      "source": [
        "## 샘플 추출\n",
        "- 원하는 샘플(행)을 얻는 방법\n",
        "- loc, iloc 등을 사용한다"
      ]
    },
    {
      "cell_type": "code",
      "metadata": {
        "id": "hSsuyiwf9BL0"
      },
      "source": [
        "# 인덱스 사용 (loc)\n",
        "df.loc[['부산','울산']]"
      ],
      "execution_count": null,
      "outputs": []
    },
    {
      "cell_type": "code",
      "metadata": {
        "id": "4wUkflLGyp3_"
      },
      "source": [
        "# 행의 위치 순서 번호 사용\n",
        "df.iloc[1:4]"
      ],
      "execution_count": null,
      "outputs": []
    },
    {
      "cell_type": "markdown",
      "metadata": {
        "id": "dsKIRlZhyp3_"
      },
      "source": [
        "## 샘플 삭제"
      ]
    },
    {
      "cell_type": "code",
      "metadata": {
        "scrolled": false,
        "id": "wHYPppKCyp3_"
      },
      "source": [
        "# 인덱스를 사용하여 삭제하기\n",
        "df.drop([\"서울\", \"부산\"])"
      ],
      "execution_count": null,
      "outputs": []
    },
    {
      "cell_type": "markdown",
      "metadata": {
        "id": "rFljcfbtyp4A"
      },
      "source": [
        "## 컬럼 추가\n",
        "- 기존에 없던 컬럼(열) 이름을 지정하면 새로운 열이 만들어진다"
      ]
    },
    {
      "cell_type": "code",
      "metadata": {
        "id": "TLRyjvLw9BMK",
        "scrolled": false
      },
      "source": [
        "# 컬럼에 추가할 내용 (리스트로 제공하는 경우)\n",
        "cars = [300, 140, 120, 70, 50, 170, 60]\n",
        "df['자동차'] = cars\n",
        "df"
      ],
      "execution_count": null,
      "outputs": []
    },
    {
      "cell_type": "code",
      "metadata": {
        "id": "shKk1MQIyp4B"
      },
      "source": [
        "# 동일한 값을 컬럼에 추가하는 방법 (값이 복사된다)\n",
        "df[\"대도시\"] = 1\n",
        "df"
      ],
      "execution_count": null,
      "outputs": []
    },
    {
      "cell_type": "code",
      "metadata": {
        "id": "fL_eFqr4yp4C"
      },
      "source": [
        "# 특정 조건 만족 여부를 추가하는 방법\n",
        "# 아래 조건문의 결과는 불리언으로 구성된 시리즈가 된다\n",
        "b = (df[\"자동차\"] >= 100)\n",
        "b"
      ],
      "execution_count": null,
      "outputs": []
    },
    {
      "cell_type": "code",
      "metadata": {
        "id": "VVIjPNPEyp4C"
      },
      "source": [
        "type(b)"
      ],
      "execution_count": null,
      "outputs": []
    },
    {
      "cell_type": "code",
      "metadata": {
        "id": "dRYLwuVl9BMO"
      },
      "source": [
        "# 불리언 시리즈를 새로운 컬럼으로 추가\n",
        "df['big'] = b\n",
        "df"
      ],
      "execution_count": null,
      "outputs": []
    },
    {
      "cell_type": "markdown",
      "metadata": {
        "id": "sXtwY5f4yp4D"
      },
      "source": [
        "- 위의 코드는 아래와 같이 간단히 작성할 수 있다"
      ]
    },
    {
      "cell_type": "code",
      "metadata": {
        "id": "hwRLRouzyp4D"
      },
      "source": [
        "df['big'] = df[\"자동차\"] >= 100\n",
        "df"
      ],
      "execution_count": null,
      "outputs": []
    },
    {
      "cell_type": "code",
      "metadata": {
        "id": "aQRaFI_byp4D"
      },
      "source": [
        "# 데이터 사본을 백업한다\n",
        "df_backup = df.copy()"
      ],
      "execution_count": null,
      "outputs": []
    },
    {
      "cell_type": "markdown",
      "metadata": {
        "id": "c0wG8eflyp4D"
      },
      "source": [
        "## 컬럼 삭제"
      ]
    },
    {
      "cell_type": "code",
      "metadata": {
        "id": "kiE5WOEryp4D"
      },
      "source": [
        "# 컬럼 삭제시에는 axis=1 지정\n",
        "df.drop([\"대도시\"], axis=1)"
      ],
      "execution_count": null,
      "outputs": []
    },
    {
      "cell_type": "markdown",
      "metadata": {
        "id": "Eff9FBGByp4E"
      },
      "source": [
        "### 딕셔너리를 사용한 (일부) 컬럼 이름 바꾸기\n",
        "- 딕셔너리의 키:값 조합으로 컬럼명을 바꿀 수 있다\n",
        "- rename() 사용"
      ]
    },
    {
      "cell_type": "code",
      "metadata": {
        "id": "g0q28cN-yp4E"
      },
      "source": [
        "my_names = {'big': '100만대이상'}\n",
        "df.rename(columns = my_names, inplace=True)\n",
        "df"
      ],
      "execution_count": null,
      "outputs": []
    },
    {
      "cell_type": "markdown",
      "metadata": {
        "id": "3G_nhShYyp4E"
      },
      "source": [
        "### 인덱스 리셋\n",
        "- 인덱스를 0에서 시작하는 새로운 값으로 지정한다\n",
        "- 기존의 인덱스는 컬럼으로 편입된다"
      ]
    },
    {
      "cell_type": "code",
      "metadata": {
        "id": "wtoTl_zXyp4E"
      },
      "source": [
        "df.reset_index(inplace=True)\n",
        "df"
      ],
      "execution_count": null,
      "outputs": []
    },
    {
      "cell_type": "markdown",
      "metadata": {
        "id": "VQ86Vdp4yp4F"
      },
      "source": [
        "## 조건 필터링\n",
        "- 특정 조건에 맞는 샘플을 추출하는 방법"
      ]
    },
    {
      "cell_type": "code",
      "metadata": {
        "id": "dyAwqWH2yp4F"
      },
      "source": [
        "# 값이 True인 항목만 얻는다\n",
        "df[df['100만대이상']]"
      ],
      "execution_count": null,
      "outputs": []
    },
    {
      "cell_type": "markdown",
      "metadata": {
        "id": "RAAB9V0lyp4F"
      },
      "source": [
        "- 위의 결과는 간단히 아래와 같이 얻을 수 있다"
      ]
    },
    {
      "cell_type": "code",
      "metadata": {
        "scrolled": true,
        "id": "FGNAiS1yyp4F"
      },
      "source": [
        "df[df[\"자동차\"] >= 100]"
      ],
      "execution_count": null,
      "outputs": []
    },
    {
      "cell_type": "code",
      "metadata": {
        "id": "gTp_rxk0yp4F"
      },
      "source": [
        "# 다른 컬럼에 대한 예\n",
        "df[df['날씨']>13]"
      ],
      "execution_count": null,
      "outputs": []
    },
    {
      "cell_type": "markdown",
      "metadata": {
        "id": "kswnXeSuyp4G"
      },
      "source": [
        "### 조건에 맞는 샘플의 인덱스 얻기"
      ]
    },
    {
      "cell_type": "code",
      "metadata": {
        "id": "0jmhINbOyp4G"
      },
      "source": [
        "index_temp = df[df['날씨'] > 13].index\n",
        "index_temp"
      ],
      "execution_count": null,
      "outputs": []
    },
    {
      "cell_type": "code",
      "metadata": {
        "id": "7NG8ik0qyp4G"
      },
      "source": [
        "# 인덱스를 사용하여 원하는 샘플을 얻는 방법\n",
        "df.loc[index_temp]"
      ],
      "execution_count": null,
      "outputs": []
    },
    {
      "cell_type": "markdown",
      "metadata": {
        "id": "Tcj2dNsEyp4G"
      },
      "source": [
        "## 정렬"
      ]
    },
    {
      "cell_type": "code",
      "metadata": {
        "id": "NHe1oeViyp4G"
      },
      "source": [
        "# 인구를 기준으로 정렬하기\n",
        "df.sort_values(['인구'])"
      ],
      "execution_count": null,
      "outputs": []
    },
    {
      "cell_type": "code",
      "metadata": {
        "scrolled": true,
        "id": "P_O2TOrPyp4H"
      },
      "source": [
        "# 내림차순으로 정렬하기\n",
        "df.sort_values(['인구'], ascending=False)"
      ],
      "execution_count": null,
      "outputs": []
    },
    {
      "cell_type": "markdown",
      "metadata": {
        "id": "nULN_tFg9BMj"
      },
      "source": [
        "# Series"
      ]
    },
    {
      "cell_type": "code",
      "metadata": {
        "id": "umCuJroVyp4H"
      },
      "source": [
        "s = df['날씨']\n",
        "type(s)\n",
        "s"
      ],
      "execution_count": null,
      "outputs": []
    },
    {
      "cell_type": "markdown",
      "metadata": {
        "id": "lczEzQ0Zyp4H"
      },
      "source": [
        "- 데이터프레임에서 한 컬럼을 취하면 시리즈가 된다\n",
        "- 시리즈에도 인덱스가 붙어있다는 것을 주의"
      ]
    },
    {
      "cell_type": "markdown",
      "metadata": {
        "id": "Td_ri0jkyp4H"
      },
      "source": [
        "## 시리즈 항목의 빈도수 세기"
      ]
    },
    {
      "cell_type": "code",
      "metadata": {
        "scrolled": true,
        "id": "CDsWHZx4yp4H"
      },
      "source": [
        "s.value_counts()"
      ],
      "execution_count": null,
      "outputs": []
    },
    {
      "cell_type": "markdown",
      "metadata": {
        "id": "6G7of04Uyp4I"
      },
      "source": [
        "## 시리즈의 유니크한 값들 추출"
      ]
    },
    {
      "cell_type": "code",
      "metadata": {
        "id": "FvOBiLEsyp4I"
      },
      "source": [
        "s.unique()"
      ],
      "execution_count": null,
      "outputs": []
    },
    {
      "cell_type": "markdown",
      "metadata": {
        "id": "7xUZfYIZyp4I"
      },
      "source": [
        "# 데이터프레임을 파일로 저장\n",
        "- to_csv(): csv 파일로 저장\n",
        "- to_excel(): 액셀 파일로 저장"
      ]
    },
    {
      "cell_type": "code",
      "metadata": {
        "id": "Hnqgym4Byp4I"
      },
      "source": [
        "# 데이터프레임을 임의의 파일명을 지정하여 csv 형식으로 저장\n",
        "# 통상 인덱스 번호는 저장하지 않는다\n",
        "df.to_csv('cities.csv', index=False)"
      ],
      "execution_count": null,
      "outputs": []
    },
    {
      "cell_type": "code",
      "metadata": {
        "id": "8vc_D0Q9yp4J"
      },
      "source": [
        "!cat cities.csv # 리눅스 명령으로 파일 내용보기 cat을 실행\n",
        "# 윈도우에서는 아래 실행\n",
        "# !type cities.csv"
      ],
      "execution_count": null,
      "outputs": []
    },
    {
      "cell_type": "code",
      "metadata": {
        "id": "qy_LR5z1yp4J"
      },
      "source": [
        "# 액셀 파일로 저장하기 (인덱스는 저정하지 않는다)\n",
        "df.to_excel('cities.xlsx', index=False)"
      ],
      "execution_count": null,
      "outputs": []
    },
    {
      "cell_type": "code",
      "metadata": {
        "id": "vhyFT93dyp4J"
      },
      "source": [
        "!ls # 파일 목록보기\n",
        "# 윈도우에서는 아래 실행\n",
        "# !dir"
      ],
      "execution_count": null,
      "outputs": []
    },
    {
      "cell_type": "markdown",
      "metadata": {
        "id": "_K7DikB6yp4J"
      },
      "source": [
        "## 파일을 읽어 데이터프레임 만들기\n",
        "- read_csv(): csv 파일을 데이터프레임으로 읽기\n",
        "- read_excel(): 액셀, xlsx 파일을 데이터프레임으로 읽기"
      ]
    },
    {
      "cell_type": "code",
      "metadata": {
        "id": "nFgvwOowyp4J"
      },
      "source": [
        "# csv 파일 읽기\n",
        "# 인덱스가 자동으로 생성된다\n",
        "df = pd.read_csv('cities.csv')  \n",
        "df"
      ],
      "execution_count": null,
      "outputs": []
    },
    {
      "cell_type": "code",
      "metadata": {
        "id": "Bon1R9w-yp4K"
      },
      "source": [
        "# 액셀 읽기\n",
        "# 인덱스가 자동으로 생성된다\n",
        "df = pd.read_excel('cities.xlsx')  \n",
        "df"
      ],
      "execution_count": null,
      "outputs": []
    },
    {
      "cell_type": "code",
      "metadata": {
        "id": "OuT_HgeMyp4K"
      },
      "source": [
        ""
      ],
      "execution_count": null,
      "outputs": []
    }
  ]
}