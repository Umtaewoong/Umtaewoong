{
  "nbformat": 4,
  "nbformat_minor": 0,
  "metadata": {
    "colab": {
      "name": "g_01_파이선기초.ipynb",
      "provenance": [],
      "collapsed_sections": [
        "v_cZd_gQfMqh",
        "yynomsnffMqr",
        "zd5EnJeQfMrE"
      ]
    },
    "kernelspec": {
      "display_name": "Python 3",
      "language": "python",
      "name": "python3"
    },
    "language_info": {
      "codemirror_mode": {
        "name": "ipython",
        "version": 3
      },
      "file_extension": ".py",
      "mimetype": "text/x-python",
      "name": "python",
      "nbconvert_exporter": "python",
      "pygments_lexer": "ipython3",
      "version": "3.7.6"
    },
    "toc": {
      "base_numbering": 1,
      "nav_menu": {},
      "number_sections": false,
      "sideBar": true,
      "skip_h1_title": false,
      "title_cell": "Table of Contents",
      "title_sidebar": "Contents",
      "toc_cell": false,
      "toc_position": {
        "height": "calc(100% - 180px)",
        "left": "10px",
        "top": "150px",
        "width": "224px"
      },
      "toc_section_display": true,
      "toc_window_display": false
    }
  },
  "cells": [
    {
      "cell_type": "markdown",
      "metadata": {
        "id": "X3dBIDyofMpX"
      },
      "source": [
        "# 파이선 기초\n",
        "\n",
        "- 기본 변수 (단일 데이터 저장)\n",
        " - 정수(int), 부동소수(float), 문자열(strings), 불리언(bool)  \n",
        "- 데이터 묶음 (복수 데이터 저장)\n",
        " - 리스트(list), 배열(array), 튜풀(tuple), 사전(dictionary) \n",
        "- 프로그램 흐름\n",
        " - if, else, for, while"
      ]
    },
    {
      "cell_type": "markdown",
      "metadata": {
        "id": "frg4-Vtiw2eI"
      },
      "source": [
        "# 기본 변수\n",
        "## 숫자\n",
        "- 단일 숫자를 담는 변수\n",
        "- 정수(int), 부동소수(float)"
      ]
    },
    {
      "cell_type": "markdown",
      "metadata": {
        "id": "xMVvZFLRw2eI"
      },
      "source": [
        "### 변수에 값을 배정(assign)\n",
        "- \"=\"를 사용"
      ]
    },
    {
      "cell_type": "code",
      "metadata": {
        "colab": {
          "base_uri": "https://localhost:8080/"
        },
        "id": "QosL1F6CfMpY",
        "outputId": "00512d8d-584c-469d-8666-973f00b99c5a"
      },
      "source": [
        "x = 7\n",
        "print(x)"
      ],
      "execution_count": 1,
      "outputs": [
        {
          "output_type": "stream",
          "text": [
            "7\n"
          ],
          "name": "stdout"
        }
      ]
    },
    {
      "cell_type": "code",
      "metadata": {
        "colab": {
          "base_uri": "https://localhost:8080/"
        },
        "scrolled": true,
        "id": "pR_ihWHsw2eK",
        "outputId": "5f097158-b902-44e3-c48c-4533cf10cfa8"
      },
      "source": [
        "y = 0.5\n",
        "print(x+y)"
      ],
      "execution_count": 2,
      "outputs": [
        {
          "output_type": "stream",
          "text": [
            "7.5\n"
          ],
          "name": "stdout"
        }
      ]
    },
    {
      "cell_type": "code",
      "metadata": {
        "colab": {
          "base_uri": "https://localhost:8080/"
        },
        "id": "VTIqoTRSfMpm",
        "outputId": "f7a3ed0e-90f7-4449-da3a-683a8c279378"
      },
      "source": [
        "# 변수의 종류(타입) 보기\n",
        "\n",
        "type(x)"
      ],
      "execution_count": 4,
      "outputs": [
        {
          "output_type": "execute_result",
          "data": {
            "text/plain": [
              "int"
            ]
          },
          "metadata": {
            "tags": []
          },
          "execution_count": 4
        }
      ]
    },
    {
      "cell_type": "code",
      "metadata": {
        "colab": {
          "base_uri": "https://localhost:8080/"
        },
        "id": "HWD9vGa0w2eK",
        "outputId": "ef72a090-3265-4fdb-c270-89d0bf0cf1ab"
      },
      "source": [
        "type(y)"
      ],
      "execution_count": 5,
      "outputs": [
        {
          "output_type": "execute_result",
          "data": {
            "text/plain": [
              "float"
            ]
          },
          "metadata": {
            "tags": []
          },
          "execution_count": 5
        }
      ]
    },
    {
      "cell_type": "code",
      "metadata": {
        "colab": {
          "base_uri": "https://localhost:8080/"
        },
        "id": "ijZSXQtqw2eL",
        "outputId": "c087a1a1-af72-4d28-9f86-bbbdb4f4a439"
      },
      "source": [
        "# 변수에 새로운 값을 배정 (엎어쓰기)\n",
        "y = 4\n",
        "type(y)"
      ],
      "execution_count": 6,
      "outputs": [
        {
          "output_type": "execute_result",
          "data": {
            "text/plain": [
              "int"
            ]
          },
          "metadata": {
            "tags": []
          },
          "execution_count": 6
        }
      ]
    },
    {
      "cell_type": "markdown",
      "metadata": {
        "id": "Tf99FUkqw2eL"
      },
      "source": [
        "### 4칙 연산"
      ]
    },
    {
      "cell_type": "code",
      "metadata": {
        "colab": {
          "base_uri": "https://localhost:8080/"
        },
        "id": "yX59XkNtw2eM",
        "outputId": "0a19d1fc-bddc-46bd-d8bd-fbe9b41c8fb5"
      },
      "source": [
        "print(x+y)\n",
        "print(x-y)\n",
        "print(x*y)\n",
        "print(x/y)"
      ],
      "execution_count": 8,
      "outputs": [
        {
          "output_type": "stream",
          "text": [
            "11\n",
            "3\n",
            "28\n",
            "1.75\n"
          ],
          "name": "stdout"
        }
      ]
    },
    {
      "cell_type": "code",
      "metadata": {
        "colab": {
          "base_uri": "https://localhost:8080/"
        },
        "id": "BSGPoWc1w2eM",
        "outputId": "eb8c2fd5-2d7f-4959-b699-ea615ef26e34"
      },
      "source": [
        "# 몫과 나머지 구하기\n",
        "print(x//y)\n",
        "print(x%y)"
      ],
      "execution_count": 9,
      "outputs": [
        {
          "output_type": "stream",
          "text": [
            "1\n",
            "3\n"
          ],
          "name": "stdout"
        }
      ]
    },
    {
      "cell_type": "code",
      "metadata": {
        "colab": {
          "base_uri": "https://localhost:8080/"
        },
        "id": "WjLq-d3Hw2eN",
        "outputId": "0f659866-b3c1-48f8-ebf1-9b08ffd34f3c"
      },
      "source": [
        "# 승수 (power)\n",
        "print(x**y)  "
      ],
      "execution_count": 10,
      "outputs": [
        {
          "output_type": "stream",
          "text": [
            "2401\n"
          ],
          "name": "stdout"
        }
      ]
    },
    {
      "cell_type": "code",
      "metadata": {
        "colab": {
          "base_uri": "https://localhost:8080/"
        },
        "id": "oCtROv4dw2eN",
        "outputId": "9a77d655-4400-49f2-8b08-04819f3eb7dc"
      },
      "source": [
        "# 10의 지수승 표시 (exponential)\n",
        "z = 1.23e5\n",
        "z"
      ],
      "execution_count": 11,
      "outputs": [
        {
          "output_type": "execute_result",
          "data": {
            "text/plain": [
              "123000.0"
            ]
          },
          "metadata": {
            "tags": []
          },
          "execution_count": 11
        }
      ]
    },
    {
      "cell_type": "code",
      "metadata": {
        "colab": {
          "base_uri": "https://localhost:8080/"
        },
        "id": "JlkAuzmRw2eO",
        "outputId": "a7276e4d-3359-4f26-f5c2-74b60f3ea910"
      },
      "source": [
        "z = 1.23E-2 # e, E는 동일하게 사용된다\n",
        "z"
      ],
      "execution_count": 12,
      "outputs": [
        {
          "output_type": "execute_result",
          "data": {
            "text/plain": [
              "0.0123"
            ]
          },
          "metadata": {
            "tags": []
          },
          "execution_count": 12
        }
      ]
    },
    {
      "cell_type": "markdown",
      "metadata": {
        "id": "mTvdIH7sw2eO"
      },
      "source": [
        "## 문자열"
      ]
    },
    {
      "cell_type": "code",
      "metadata": {
        "colab": {
          "base_uri": "https://localhost:8080/"
        },
        "id": "xaxF7s5ufMpr",
        "scrolled": false,
        "outputId": "b029be66-8a96-4e66-ff2f-1d7d096dbb05"
      },
      "source": [
        "print(\"문자열 출력하기\")\n",
        "print('따옴표는 \"혼용\"이 가능합니다')\n",
        "print(\"본인의 '취향대로' 사용하세요\")"
      ],
      "execution_count": 13,
      "outputs": [
        {
          "output_type": "stream",
          "text": [
            "문자열 출력하기\n",
            "따옴표는 \"혼용\"이 가능합니다\n",
            "본인의 '취향대로' 사용하세요\n"
          ],
          "name": "stdout"
        }
      ]
    },
    {
      "cell_type": "code",
      "metadata": {
        "colab": {
          "base_uri": "https://localhost:8080/"
        },
        "id": "-zSyVqrAw2eP",
        "outputId": "d41d31e6-024a-42bb-b4b0-b7f6718a9d63"
      },
      "source": [
        "print(\"특수 기호를 출력할 때는 \\\" 이렇게 백 슬래시를 사용하세요\")"
      ],
      "execution_count": 14,
      "outputs": [
        {
          "output_type": "stream",
          "text": [
            "특수 기호를 출력할 때는 \" 이렇게 백 슬래시를 사용하세요\n"
          ],
          "name": "stdout"
        }
      ]
    },
    {
      "cell_type": "code",
      "metadata": {
        "colab": {
          "base_uri": "https://localhost:8080/"
        },
        "id": "0S5RLpsNw2eP",
        "outputId": "c7a881fd-c2a0-475e-af25-9116bcf98fd9"
      },
      "source": [
        "print(\"새로운 줄(new line)을 출력하려면 \\n 백 슬래시를 사용하세요\")"
      ],
      "execution_count": 15,
      "outputs": [
        {
          "output_type": "stream",
          "text": [
            "새로운 줄(new line)을 출력하려면 \n",
            " 백 슬래시를 사용하세요\n"
          ],
          "name": "stdout"
        }
      ]
    },
    {
      "cell_type": "code",
      "metadata": {
        "colab": {
          "base_uri": "https://localhost:8080/"
        },
        "id": "-L32D8UXw2eP",
        "outputId": "5e21ee28-b43f-41a9-f0ac-9ae2bcb162fd"
      },
      "source": [
        "x = \"임의의 문자열을..\"\n",
        "y = \"붙여서 새로운 문자열로 만든다\"\n",
        "print(x + y)"
      ],
      "execution_count": 16,
      "outputs": [
        {
          "output_type": "stream",
          "text": [
            "임의의 문자열을..붙여서 새로운 문자열로 만든다\n"
          ],
          "name": "stdout"
        }
      ]
    },
    {
      "cell_type": "code",
      "metadata": {
        "colab": {
          "base_uri": "https://localhost:8080/",
          "height": 35
        },
        "id": "0OqnuWSGw2eQ",
        "outputId": "2d9ced72-31d8-4ebd-8ae2-4d4a50dd77d0"
      },
      "source": [
        "x * 3"
      ],
      "execution_count": 17,
      "outputs": [
        {
          "output_type": "execute_result",
          "data": {
            "application/vnd.google.colaboratory.intrinsic+json": {
              "type": "string"
            },
            "text/plain": [
              "'임의의 문자열을..임의의 문자열을..임의의 문자열을..'"
            ]
          },
          "metadata": {
            "tags": []
          },
          "execution_count": 17
        }
      ]
    },
    {
      "cell_type": "code",
      "metadata": {
        "colab": {
          "base_uri": "https://localhost:8080/"
        },
        "id": "UbQTPUcIw2eQ",
        "outputId": "5dd98af4-abd5-40de-df33-540617883a99"
      },
      "source": [
        "# 문자열의 길이 보기 (length)\n",
        "len(x)"
      ],
      "execution_count": 18,
      "outputs": [
        {
          "output_type": "execute_result",
          "data": {
            "text/plain": [
              "10"
            ]
          },
          "metadata": {
            "tags": []
          },
          "execution_count": 18
        }
      ]
    },
    {
      "cell_type": "code",
      "metadata": {
        "colab": {
          "base_uri": "https://localhost:8080/",
          "height": 35
        },
        "id": "k_3WBLKbw2eQ",
        "outputId": "6c1cec29-5d03-4a88-9dc9-cbbfcb9bae31"
      },
      "source": [
        "# 특정 위치의 문자 보기 (indexing)\n",
        "x[5]"
      ],
      "execution_count": 19,
      "outputs": [
        {
          "output_type": "execute_result",
          "data": {
            "application/vnd.google.colaboratory.intrinsic+json": {
              "type": "string"
            },
            "text/plain": [
              "'자'"
            ]
          },
          "metadata": {
            "tags": []
          },
          "execution_count": 19
        }
      ]
    },
    {
      "cell_type": "code",
      "metadata": {
        "colab": {
          "base_uri": "https://localhost:8080/",
          "height": 35
        },
        "id": "PTe4xB0Nw2eQ",
        "outputId": "a34d77af-ecb2-40e8-faf7-341247e7730b"
      },
      "source": [
        "# 일부분만 보기 (slicing)\n",
        "x[2:6] # 이상 ~ 미만"
      ],
      "execution_count": 20,
      "outputs": [
        {
          "output_type": "execute_result",
          "data": {
            "application/vnd.google.colaboratory.intrinsic+json": {
              "type": "string"
            },
            "text/plain": [
              "'의 문자'"
            ]
          },
          "metadata": {
            "tags": []
          },
          "execution_count": 20
        }
      ]
    },
    {
      "cell_type": "code",
      "metadata": {
        "colab": {
          "base_uri": "https://localhost:8080/",
          "height": 35
        },
        "id": "OQUHksdHw2eR",
        "outputId": "621faee3-399a-4f2c-fa90-d2f5024be890"
      },
      "source": [
        "x[6:9] # 7번째 ~9번째까지"
      ],
      "execution_count": 21,
      "outputs": [
        {
          "output_type": "execute_result",
          "data": {
            "application/vnd.google.colaboratory.intrinsic+json": {
              "type": "string"
            },
            "text/plain": [
              "'열을.'"
            ]
          },
          "metadata": {
            "tags": []
          },
          "execution_count": 21
        }
      ]
    },
    {
      "cell_type": "code",
      "metadata": {
        "colab": {
          "base_uri": "https://localhost:8080/",
          "height": 35
        },
        "id": "7oDH1pmrw2eR",
        "outputId": "3858d029-3915-4440-c9ee-c260ab69c6f8"
      },
      "source": [
        "# 뒤에서부터 카운트\n",
        "x[-1]"
      ],
      "execution_count": 22,
      "outputs": [
        {
          "output_type": "execute_result",
          "data": {
            "application/vnd.google.colaboratory.intrinsic+json": {
              "type": "string"
            },
            "text/plain": [
              "'.'"
            ]
          },
          "metadata": {
            "tags": []
          },
          "execution_count": 22
        }
      ]
    },
    {
      "cell_type": "code",
      "metadata": {
        "colab": {
          "base_uri": "https://localhost:8080/",
          "height": 35
        },
        "id": "eLUXcE17w2eR",
        "outputId": "419f13b3-3711-415d-f4c2-56d71369955a"
      },
      "source": [
        "x"
      ],
      "execution_count": 23,
      "outputs": [
        {
          "output_type": "execute_result",
          "data": {
            "application/vnd.google.colaboratory.intrinsic+json": {
              "type": "string"
            },
            "text/plain": [
              "'임의의 문자열을..'"
            ]
          },
          "metadata": {
            "tags": []
          },
          "execution_count": 23
        }
      ]
    },
    {
      "cell_type": "code",
      "metadata": {
        "colab": {
          "base_uri": "https://localhost:8080/",
          "height": 35
        },
        "id": "WZbbvd2kw2eS",
        "outputId": "cb9f4f48-5dd9-40f8-8879-0e1eac343bad"
      },
      "source": [
        "x[2:-3]"
      ],
      "execution_count": 24,
      "outputs": [
        {
          "output_type": "execute_result",
          "data": {
            "application/vnd.google.colaboratory.intrinsic+json": {
              "type": "string"
            },
            "text/plain": [
              "'의 문자열'"
            ]
          },
          "metadata": {
            "tags": []
          },
          "execution_count": 24
        }
      ]
    },
    {
      "cell_type": "markdown",
      "metadata": {
        "id": "sMCUqFOuw2eS"
      },
      "source": [
        "### 문자열 조작, split과 join\n",
        "- 문자열을 공백, \"/\", \",\" 등을 기준으로 나누거나 합친다\n",
        "- 나누어진 항목은 리스트(list)에 저장된다 (리스트는 여러 데이터를 묶은 것)"
      ]
    },
    {
      "cell_type": "code",
      "metadata": {
        "colab": {
          "base_uri": "https://localhost:8080/"
        },
        "id": "HWjn2v_Lw2eS",
        "outputId": "02cd5dd7-a724-452a-d5ba-d99044e18049"
      },
      "source": [
        "# 공백 기준으로 나눈 리스트를 얻는다\n",
        "print(x)\n",
        "x.split()"
      ],
      "execution_count": 25,
      "outputs": [
        {
          "output_type": "stream",
          "text": [
            "임의의 문자열을..\n"
          ],
          "name": "stdout"
        },
        {
          "output_type": "execute_result",
          "data": {
            "text/plain": [
              "['임의의', '문자열을..']"
            ]
          },
          "metadata": {
            "tags": []
          },
          "execution_count": 25
        }
      ]
    },
    {
      "cell_type": "code",
      "metadata": {
        "colab": {
          "base_uri": "https://localhost:8080/"
        },
        "id": "OeIBVczxw2eS",
        "outputId": "27e063d6-fd70-433a-ddfb-b4b6a2beff2f"
      },
      "source": [
        "# \"/\"를 기준으로 나눈다\n",
        "y = '12/31/2030'\n",
        "z = y.split('/')\n",
        "z"
      ],
      "execution_count": 26,
      "outputs": [
        {
          "output_type": "execute_result",
          "data": {
            "text/plain": [
              "['12', '31', '2030']"
            ]
          },
          "metadata": {
            "tags": []
          },
          "execution_count": 26
        }
      ]
    },
    {
      "cell_type": "code",
      "metadata": {
        "colab": {
          "base_uri": "https://localhost:8080/",
          "height": 35
        },
        "id": "jzJ0JKBlw2eS",
        "outputId": "715d606e-a9e4-4155-8aba-dc8bff7edf9f"
      },
      "source": [
        "# 리스트의 인덱싱\n",
        "z[2]"
      ],
      "execution_count": 27,
      "outputs": [
        {
          "output_type": "execute_result",
          "data": {
            "application/vnd.google.colaboratory.intrinsic+json": {
              "type": "string"
            },
            "text/plain": [
              "'2030'"
            ]
          },
          "metadata": {
            "tags": []
          },
          "execution_count": 27
        }
      ]
    },
    {
      "cell_type": "code",
      "metadata": {
        "colab": {
          "base_uri": "https://localhost:8080/",
          "height": 35
        },
        "id": "nT7lp6zfw2eT",
        "outputId": "2e0db8c5-5272-4a0e-b83c-420fe60b2739"
      },
      "source": [
        "# 리스트 내의 문자열들을 합치기\n",
        "\",\".join(z)"
      ],
      "execution_count": 28,
      "outputs": [
        {
          "output_type": "execute_result",
          "data": {
            "application/vnd.google.colaboratory.intrinsic+json": {
              "type": "string"
            },
            "text/plain": [
              "'12,31,2030'"
            ]
          },
          "metadata": {
            "tags": []
          },
          "execution_count": 28
        }
      ]
    },
    {
      "cell_type": "code",
      "metadata": {
        "colab": {
          "base_uri": "https://localhost:8080/",
          "height": 35
        },
        "id": "2nkEhykHw2eT",
        "outputId": "ad7f5f4f-540b-45a0-f435-82f39169d0d1"
      },
      "source": [
        "# 순서를 바꾸어서 합치기\n",
        "\"-\".join((z[2], z[1], z[0]))"
      ],
      "execution_count": 29,
      "outputs": [
        {
          "output_type": "execute_result",
          "data": {
            "application/vnd.google.colaboratory.intrinsic+json": {
              "type": "string"
            },
            "text/plain": [
              "'2030-31-12'"
            ]
          },
          "metadata": {
            "tags": []
          },
          "execution_count": 29
        }
      ]
    },
    {
      "cell_type": "code",
      "metadata": {
        "colab": {
          "base_uri": "https://localhost:8080/"
        },
        "id": "AJ2tnwxDw2eT",
        "outputId": "c44d09b9-b201-49fc-c540-4f01639d522b"
      },
      "source": [
        "# 문자열 교체 (replace)\n",
        "print(x)\n",
        "print(x.replace(\"문자열\", \"긴 문장들\"))"
      ],
      "execution_count": 30,
      "outputs": [
        {
          "output_type": "stream",
          "text": [
            "임의의 문자열을..\n",
            "임의의 긴 문장들을..\n"
          ],
          "name": "stdout"
        }
      ]
    },
    {
      "cell_type": "markdown",
      "metadata": {
        "id": "6TDIhr3mw2eT"
      },
      "source": [
        "### 문자열에 포맷( format) 사용하기\n",
        "- \"%\" 사용\n",
        "- format() 사용\n",
        "- f\"...\" 사용"
      ]
    },
    {
      "cell_type": "code",
      "metadata": {
        "colab": {
          "base_uri": "https://localhost:8080/",
          "height": 35
        },
        "id": "kF928n_Lw2eU",
        "outputId": "a2a2c216-5dbd-4d3d-e2d4-abdef8f67d3e"
      },
      "source": [
        "\"변수가 %d 개 들어 있는 문자열 출력하기\" %10"
      ],
      "execution_count": 31,
      "outputs": [
        {
          "output_type": "execute_result",
          "data": {
            "application/vnd.google.colaboratory.intrinsic+json": {
              "type": "string"
            },
            "text/plain": [
              "'변수가 10 개 들어 있는 문자열 출력하기'"
            ]
          },
          "metadata": {
            "tags": []
          },
          "execution_count": 31
        }
      ]
    },
    {
      "cell_type": "code",
      "metadata": {
        "colab": {
          "base_uri": "https://localhost:8080/"
        },
        "id": "eqhGmnvow2eU",
        "outputId": "898853e5-8ef4-4048-d740-b657da8dd8ce"
      },
      "source": [
        "x = 5\n",
        "print(\"변수가 %d 개 들어 있는 문자열 출력하기\" %x)"
      ],
      "execution_count": 32,
      "outputs": [
        {
          "output_type": "stream",
          "text": [
            "변수가 5 개 들어 있는 문자열 출력하기\n"
          ],
          "name": "stdout"
        }
      ]
    },
    {
      "cell_type": "code",
      "metadata": {
        "colab": {
          "base_uri": "https://localhost:8080/"
        },
        "id": "_GW_KHgAw2eU",
        "outputId": "3da338bf-485b-4379-d2a0-2bdbe3229bf1"
      },
      "source": [
        "# 정수와 소수 사용\n",
        "x = 5 \n",
        "y = 97.5\n",
        "print(\"변수가 %d 개 들어 있는 문자열 %0.2f 점 주기\" %(x,y))"
      ],
      "execution_count": 33,
      "outputs": [
        {
          "output_type": "stream",
          "text": [
            "변수가 5 개 들어 있는 문자열 97.50 점 주기\n"
          ],
          "name": "stdout"
        }
      ]
    },
    {
      "cell_type": "markdown",
      "metadata": {
        "id": "yUDprzArw2eU"
      },
      "source": [
        "- format 을 사용하는 방법\n"
      ]
    },
    {
      "cell_type": "code",
      "metadata": {
        "colab": {
          "base_uri": "https://localhost:8080/"
        },
        "id": "PaqvGxWgw2eU",
        "outputId": "de10455c-6d78-48dd-c893-26b6154a3fce"
      },
      "source": [
        "# 위치로 지정\n",
        "print(\"변수가 {0} 개 들어 있는 문자열 {1}점 주기\".format(x,y))"
      ],
      "execution_count": 34,
      "outputs": [
        {
          "output_type": "stream",
          "text": [
            "변수가 5 개 들어 있는 문자열 97.5점 주기\n"
          ],
          "name": "stdout"
        }
      ]
    },
    {
      "cell_type": "code",
      "metadata": {
        "colab": {
          "base_uri": "https://localhost:8080/"
        },
        "id": "uv0eqSJyw2eV",
        "outputId": "a7225ea5-66cd-4e35-d5c4-0c6cd005b0d4"
      },
      "source": [
        "# 변수를 지정\n",
        "print(\"변수가 {n2} 개 들어 있는 문자열 {n1}점 주기\".format(n2=x,n1=y))"
      ],
      "execution_count": 35,
      "outputs": [
        {
          "output_type": "stream",
          "text": [
            "변수가 5 개 들어 있는 문자열 97.5점 주기\n"
          ],
          "name": "stdout"
        }
      ]
    },
    {
      "cell_type": "markdown",
      "metadata": {
        "id": "2G5PLlp0w2eV"
      },
      "source": [
        "- f\"...\"를 사용하는 방법"
      ]
    },
    {
      "cell_type": "code",
      "metadata": {
        "colab": {
          "base_uri": "https://localhost:8080/"
        },
        "id": "2SpnXC8Vw2eV",
        "outputId": "af38ac16-18cb-4e37-cebb-a1b972ed87e7"
      },
      "source": [
        "# 간편하게 \"...\" 앞에 f를 붙인다\n",
        "print(f\"변수가 {x} 개 들어 있는 문자열 {y}점 주기\")"
      ],
      "execution_count": 36,
      "outputs": [
        {
          "output_type": "stream",
          "text": [
            "변수가 5 개 들어 있는 문자열 97.5점 주기\n"
          ],
          "name": "stdout"
        }
      ]
    },
    {
      "cell_type": "markdown",
      "metadata": {
        "id": "fWAuxdX7w2eV"
      },
      "source": [
        "### 소숫점 포매팅\n",
        "- \":\"를 사용"
      ]
    },
    {
      "cell_type": "code",
      "metadata": {
        "colab": {
          "base_uri": "https://localhost:8080/",
          "height": 35
        },
        "id": "u_LgxDvmw2eV",
        "outputId": "ab21b240-23e4-4b66-cd93-5239620aa3f9"
      },
      "source": [
        "phi = 3.141592\n",
        "f\"{phi}\""
      ],
      "execution_count": 37,
      "outputs": [
        {
          "output_type": "execute_result",
          "data": {
            "application/vnd.google.colaboratory.intrinsic+json": {
              "type": "string"
            },
            "text/plain": [
              "'3.141592'"
            ]
          },
          "metadata": {
            "tags": []
          },
          "execution_count": 37
        }
      ]
    },
    {
      "cell_type": "code",
      "metadata": {
        "colab": {
          "base_uri": "https://localhost:8080/"
        },
        "id": "0gXYD0w3w2eW",
        "outputId": "9c091847-2a04-4aef-bc2c-01c57807ddc8"
      },
      "source": [
        "print(f\"{phi}\")\n",
        "print(f\"{phi:0.4f}\")\n",
        "print(f\"{phi:0.2f}\")"
      ],
      "execution_count": 38,
      "outputs": [
        {
          "output_type": "stream",
          "text": [
            "3.141592\n",
            "3.1416\n",
            "3.14\n"
          ],
          "name": "stdout"
        }
      ]
    },
    {
      "cell_type": "markdown",
      "metadata": {
        "id": "znRbtXmhw2eW"
      },
      "source": [
        "## 불리언\n",
        "- 참과 거짓을 True, False로 표현\n",
        "- 대소문자를 구분함"
      ]
    },
    {
      "cell_type": "code",
      "metadata": {
        "colab": {
          "base_uri": "https://localhost:8080/"
        },
        "id": "li-KXSyVfMpv",
        "outputId": "b7a8fa08-6b42-4004-e616-a2bf225acfec"
      },
      "source": [
        "a = True\n",
        "b = False\n",
        "a & b"
      ],
      "execution_count": 39,
      "outputs": [
        {
          "output_type": "execute_result",
          "data": {
            "text/plain": [
              "False"
            ]
          },
          "metadata": {
            "tags": []
          },
          "execution_count": 39
        }
      ]
    },
    {
      "cell_type": "code",
      "metadata": {
        "colab": {
          "base_uri": "https://localhost:8080/"
        },
        "id": "eUMrrEnJw2eW",
        "outputId": "dca7832e-11ba-46fe-d762-cc9c0f482193"
      },
      "source": [
        "a | b"
      ],
      "execution_count": 40,
      "outputs": [
        {
          "output_type": "execute_result",
          "data": {
            "text/plain": [
              "True"
            ]
          },
          "metadata": {
            "tags": []
          },
          "execution_count": 40
        }
      ]
    },
    {
      "cell_type": "markdown",
      "metadata": {
        "id": "xg_nf6zOw2eW"
      },
      "source": [
        "- \">\", \"<\", \"==\" 등 조건문을 사용하여 불리언 값을 얻을 수 있다"
      ]
    },
    {
      "cell_type": "code",
      "metadata": {
        "colab": {
          "base_uri": "https://localhost:8080/"
        },
        "id": "giFAH7d3w2eW",
        "outputId": "feacf113-be7d-4b66-bc53-73ecdcadf14e"
      },
      "source": [
        "x = 3\n",
        "x < 1"
      ],
      "execution_count": 41,
      "outputs": [
        {
          "output_type": "execute_result",
          "data": {
            "text/plain": [
              "False"
            ]
          },
          "metadata": {
            "tags": []
          },
          "execution_count": 41
        }
      ]
    },
    {
      "cell_type": "code",
      "metadata": {
        "colab": {
          "base_uri": "https://localhost:8080/"
        },
        "id": "_4_N_t_pw2eX",
        "outputId": "ad1b88f6-a018-4b66-c927-f3fce3846d57"
      },
      "source": [
        "x > 1"
      ],
      "execution_count": 42,
      "outputs": [
        {
          "output_type": "execute_result",
          "data": {
            "text/plain": [
              "True"
            ]
          },
          "metadata": {
            "tags": []
          },
          "execution_count": 42
        }
      ]
    },
    {
      "cell_type": "code",
      "metadata": {
        "colab": {
          "base_uri": "https://localhost:8080/"
        },
        "id": "e9AD28Wnw2eX",
        "outputId": "063f7f7a-2b8a-473d-d135-410fe5b477ad"
      },
      "source": [
        "# 어떤 값이 같은지를 보는 조건문에는 \"==\"를 사용한다\n",
        "x == 3"
      ],
      "execution_count": 43,
      "outputs": [
        {
          "output_type": "execute_result",
          "data": {
            "text/plain": [
              "True"
            ]
          },
          "metadata": {
            "tags": []
          },
          "execution_count": 43
        }
      ]
    },
    {
      "cell_type": "code",
      "metadata": {
        "id": "j9R8UzGVyEVF"
      },
      "source": [
        ""
      ],
      "execution_count": null,
      "outputs": []
    },
    {
      "cell_type": "markdown",
      "metadata": {
        "id": "1sBLHF1Lw2eX"
      },
      "source": [
        "### 불리언의 연산\n",
        "- 불리언 변수가 연산에 사용되면 True는 1로, False는 0으로 취급된다"
      ]
    },
    {
      "cell_type": "code",
      "metadata": {
        "colab": {
          "base_uri": "https://localhost:8080/"
        },
        "id": "8hYf20fffMpz",
        "outputId": "0aa7af6d-cb3f-46a6-bd06-8362d357812e"
      },
      "source": [
        "print(a)\n",
        "print(b)\n",
        "print(a+b+3)"
      ],
      "execution_count": 44,
      "outputs": [
        {
          "output_type": "stream",
          "text": [
            "True\n",
            "False\n",
            "4\n"
          ],
          "name": "stdout"
        }
      ]
    },
    {
      "cell_type": "code",
      "metadata": {
        "id": "WkZXtkAzfMp2",
        "outputId": "e6bba6f4-78e6-464e-ed0f-1ee8c5a93eaa"
      },
      "source": [
        "a*1"
      ],
      "execution_count": null,
      "outputs": [
        {
          "output_type": "execute_result",
          "data": {
            "text/plain": [
              "1"
            ]
          },
          "metadata": {
            "tags": []
          },
          "execution_count": 43
        }
      ]
    },
    {
      "cell_type": "code",
      "metadata": {
        "id": "jrKsYDHSw2eY",
        "outputId": "47830a10-9c96-4b80-8cf5-f0d74d0a0bda"
      },
      "source": [
        "b*1"
      ],
      "execution_count": null,
      "outputs": [
        {
          "output_type": "execute_result",
          "data": {
            "text/plain": [
              "0"
            ]
          },
          "metadata": {
            "tags": []
          },
          "execution_count": 44
        }
      ]
    },
    {
      "cell_type": "code",
      "metadata": {
        "id": "3z9VnJd5w2eY",
        "outputId": "9fe5de21-723d-41fc-b7fc-11331c519368"
      },
      "source": [
        "a = bool(0)\n",
        "a"
      ],
      "execution_count": null,
      "outputs": [
        {
          "output_type": "execute_result",
          "data": {
            "text/plain": [
              "False"
            ]
          },
          "metadata": {
            "tags": []
          },
          "execution_count": 45
        }
      ]
    },
    {
      "cell_type": "markdown",
      "metadata": {
        "id": "SR1EuTvjfMp7"
      },
      "source": [
        "# 데이터 묶음\n",
        " - 단 변수들을 여러개 묶어 처리하는 방법\n",
        " - 리스트(list), 배열(array), 튜플(tuple), 사전(dictionary)"
      ]
    },
    {
      "cell_type": "markdown",
      "metadata": {
        "id": "VXnAQ017w2eY"
      },
      "source": [
        "## 리스트\n",
        " - 파이썬에서 가장 널리 사용되는 데이터 조작용 \"통\"\n",
        " - 리스트를 구성하는 각 항목의 데이터 타입은 서로 달라도 된다"
      ]
    },
    {
      "cell_type": "markdown",
      "metadata": {
        "id": "jooXOdd1w2eY"
      },
      "source": [
        "### 리스트 생성\n",
        " - 리스트를 만들려면 대괄호 \"[ ]\" 를 사용하고 각 항목을 ','로 구분한다\n",
        " - list() 함수로도 만들 수 있다"
      ]
    },
    {
      "cell_type": "code",
      "metadata": {
        "id": "vfmktw7gfMp8",
        "outputId": "9d702bf1-2d24-4712-84ec-8f7e8424762c"
      },
      "source": [
        "x = [1,2,3] ; x"
      ],
      "execution_count": null,
      "outputs": [
        {
          "output_type": "execute_result",
          "data": {
            "text/plain": [
              "[1, 2, 3]"
            ]
          },
          "metadata": {
            "tags": []
          },
          "execution_count": 46
        }
      ]
    },
    {
      "cell_type": "code",
      "metadata": {
        "id": "gCgswWZsw2eb",
        "outputId": "d913b2a7-3b7f-48ab-803a-d49a59c4b915"
      },
      "source": [
        "type(x)"
      ],
      "execution_count": null,
      "outputs": [
        {
          "output_type": "execute_result",
          "data": {
            "text/plain": [
              "list"
            ]
          },
          "metadata": {
            "tags": []
          },
          "execution_count": 47
        }
      ]
    },
    {
      "cell_type": "code",
      "metadata": {
        "id": "PfHYIrO9w2eb",
        "outputId": "8c63bc60-a03d-49b7-a466-075db6379d8d"
      },
      "source": [
        "x = list([10,20,30]) ; x"
      ],
      "execution_count": null,
      "outputs": [
        {
          "output_type": "execute_result",
          "data": {
            "text/plain": [
              "[10, 20, 30]"
            ]
          },
          "metadata": {
            "tags": []
          },
          "execution_count": 48
        }
      ]
    },
    {
      "cell_type": "code",
      "metadata": {
        "id": "54v-f8W8fMqD",
        "outputId": "b52ca47c-248f-4829-c033-f5af94893d0b"
      },
      "source": [
        "# 리스트 길이 (항목의 갯수)\n",
        "len(x)"
      ],
      "execution_count": null,
      "outputs": [
        {
          "output_type": "execute_result",
          "data": {
            "text/plain": [
              "3"
            ]
          },
          "metadata": {
            "tags": []
          },
          "execution_count": 49
        }
      ]
    },
    {
      "cell_type": "markdown",
      "metadata": {
        "id": "t3dOymFxw2eb"
      },
      "source": [
        "### 인덱싱\n",
        "- 리스트에서 특정 위치의 항목 값을 얻는다\n",
        "- 위치 번호는 '1'이 아니라 '0'부터 시작한다"
      ]
    },
    {
      "cell_type": "code",
      "metadata": {
        "id": "NCikFr1afMqG",
        "outputId": "bd91297a-d9b2-4173-9ff9-deb51da01bf5"
      },
      "source": [
        "x[1]"
      ],
      "execution_count": null,
      "outputs": [
        {
          "output_type": "execute_result",
          "data": {
            "text/plain": [
              "20"
            ]
          },
          "metadata": {
            "tags": []
          },
          "execution_count": 50
        }
      ]
    },
    {
      "cell_type": "code",
      "metadata": {
        "id": "pIgg8MmlfMqJ",
        "scrolled": true,
        "outputId": "5d71e0f9-9462-4cd0-f2b5-a083e26ed07d"
      },
      "source": [
        "# 인덱싱을 이용한 항목 값의 변경 (assign)\n",
        "x[2]=100 ; x"
      ],
      "execution_count": null,
      "outputs": [
        {
          "output_type": "execute_result",
          "data": {
            "text/plain": [
              "[10, 20, 100]"
            ]
          },
          "metadata": {
            "tags": []
          },
          "execution_count": 51
        }
      ]
    },
    {
      "cell_type": "markdown",
      "metadata": {
        "id": "rUCE7N2Tw2ec"
      },
      "source": [
        "### 슬라이싱\n",
        "- 어떤 범위의 항목을 얻는다"
      ]
    },
    {
      "cell_type": "code",
      "metadata": {
        "id": "PZNFeB9hfMqN",
        "scrolled": true,
        "outputId": "3c15b21b-5c03-4a17-83f7-d3c805cac456"
      },
      "source": [
        "x = [1,2,3,5,100]\n",
        "\n",
        "# 슬라이싱으로 범위를 선택한다 (뒷쪽 경계는 포함하지 않음)\n",
        "x[1:3]"
      ],
      "execution_count": null,
      "outputs": [
        {
          "output_type": "execute_result",
          "data": {
            "text/plain": [
              "[2, 3]"
            ]
          },
          "metadata": {
            "tags": []
          },
          "execution_count": 52
        }
      ]
    },
    {
      "cell_type": "code",
      "metadata": {
        "id": "CCZqGacyfMqR",
        "outputId": "2b8132ca-9cc8-4e38-ed45-3a1e8d93c8ca"
      },
      "source": [
        "# 뒤에서부터 인덱싱할 때는 '-' 를 사용\n",
        "x[-2]"
      ],
      "execution_count": null,
      "outputs": [
        {
          "output_type": "execute_result",
          "data": {
            "text/plain": [
              "5"
            ]
          },
          "metadata": {
            "tags": []
          },
          "execution_count": 53
        }
      ]
    },
    {
      "cell_type": "code",
      "metadata": {
        "id": "PJOF9IuZfMqZ",
        "outputId": "b8cea724-8db4-49da-8716-c2fd4258f6d4"
      },
      "source": [
        "x[0:4]"
      ],
      "execution_count": null,
      "outputs": [
        {
          "output_type": "execute_result",
          "data": {
            "text/plain": [
              "[1, 2, 3, 5]"
            ]
          },
          "metadata": {
            "tags": []
          },
          "execution_count": 54
        }
      ]
    },
    {
      "cell_type": "markdown",
      "metadata": {
        "id": "robWNM6Bw2ed"
      },
      "source": [
        "### 특정 값이 있는 항목의 위치(index) 얻기\n",
        "- index() 사용"
      ]
    },
    {
      "cell_type": "code",
      "metadata": {
        "id": "I3Hl_WfOw2ed",
        "outputId": "ca7b5e8f-d414-4cde-d0da-9bd4ef08f6a2"
      },
      "source": [
        "x"
      ],
      "execution_count": null,
      "outputs": [
        {
          "output_type": "execute_result",
          "data": {
            "text/plain": [
              "[1, 2, 3, 5, 100]"
            ]
          },
          "metadata": {
            "tags": []
          },
          "execution_count": 55
        }
      ]
    },
    {
      "cell_type": "code",
      "metadata": {
        "id": "2wuCRh2ow2ed",
        "outputId": "401ade7b-6dec-4ccd-815e-6a31df437c45"
      },
      "source": [
        "x.index(100)"
      ],
      "execution_count": null,
      "outputs": [
        {
          "output_type": "execute_result",
          "data": {
            "text/plain": [
              "4"
            ]
          },
          "metadata": {
            "tags": []
          },
          "execution_count": 56
        }
      ]
    },
    {
      "cell_type": "markdown",
      "metadata": {
        "id": "4ntv3uffw2ee"
      },
      "source": [
        "### 항목 추가 및 삭제: append(), del()"
      ]
    },
    {
      "cell_type": "code",
      "metadata": {
        "id": "XpSrOjU2fMqe",
        "outputId": "682d1a04-f04c-4f7f-a8ee-a3e44f7765c3"
      },
      "source": [
        "print(x)\n",
        "x.append('park') # 맨 뒤에 추가된다\n",
        "x"
      ],
      "execution_count": null,
      "outputs": [
        {
          "output_type": "stream",
          "text": [
            "[1, 2, 3, 5, 100]\n"
          ],
          "name": "stdout"
        },
        {
          "output_type": "execute_result",
          "data": {
            "text/plain": [
              "[1, 2, 3, 5, 100, 'park']"
            ]
          },
          "metadata": {
            "tags": []
          },
          "execution_count": 57
        }
      ]
    },
    {
      "cell_type": "code",
      "metadata": {
        "id": "TiBXkgpYw2ee",
        "outputId": "a975bbc4-9d91-4e83-b074-5d0c5f2f7fd4"
      },
      "source": [
        "# 특정 위치의 항목을 제거 (복구가 안되므로 주의)\n",
        "del x[2]\n",
        "x"
      ],
      "execution_count": null,
      "outputs": [
        {
          "output_type": "execute_result",
          "data": {
            "text/plain": [
              "[1, 2, 5, 100, 'park']"
            ]
          },
          "metadata": {
            "tags": []
          },
          "execution_count": 58
        }
      ]
    },
    {
      "cell_type": "code",
      "metadata": {
        "id": "40wUfUO3w2ef",
        "outputId": "871da38e-528e-4ad6-86fb-9de423adb728"
      },
      "source": [
        "# 특정 항목의 갯수를 센다 (count)\n",
        "x.count('park')"
      ],
      "execution_count": null,
      "outputs": [
        {
          "output_type": "execute_result",
          "data": {
            "text/plain": [
              "1"
            ]
          },
          "metadata": {
            "tags": []
          },
          "execution_count": 59
        }
      ]
    },
    {
      "cell_type": "code",
      "metadata": {
        "id": "YosFC_V_w2ef",
        "outputId": "04c9a4f3-3e05-4907-ebcb-bf354ee79fc4"
      },
      "source": [
        "x.append('park')\n",
        "x.count('park')"
      ],
      "execution_count": null,
      "outputs": [
        {
          "output_type": "execute_result",
          "data": {
            "text/plain": [
              "2"
            ]
          },
          "metadata": {
            "tags": []
          },
          "execution_count": 60
        }
      ]
    },
    {
      "cell_type": "code",
      "metadata": {
        "id": "nr4M0gluw2ef",
        "outputId": "cabbf4dd-7b36-44f7-b12d-1c54d94e430e"
      },
      "source": [
        "x"
      ],
      "execution_count": null,
      "outputs": [
        {
          "output_type": "execute_result",
          "data": {
            "text/plain": [
              "[1, 2, 5, 100, 'park', 'park']"
            ]
          },
          "metadata": {
            "tags": []
          },
          "execution_count": 61
        }
      ]
    },
    {
      "cell_type": "markdown",
      "metadata": {
        "id": "8OSYSt-Bw2eg"
      },
      "source": [
        "### 리스트 정렬, sorted\n",
        "- 숫자 또는 알파벳순으로 정렬한다"
      ]
    },
    {
      "cell_type": "code",
      "metadata": {
        "id": "qHphaAgVw2eg",
        "outputId": "d8e401ba-aea4-4e2a-cf05-9e07ca443a1a"
      },
      "source": [
        "x = [\"park\", \"kim\", \"lee\"]\n",
        "sorted(x)"
      ],
      "execution_count": null,
      "outputs": [
        {
          "output_type": "execute_result",
          "data": {
            "text/plain": [
              "['kim', 'lee', 'park']"
            ]
          },
          "metadata": {
            "tags": []
          },
          "execution_count": 62
        }
      ]
    },
    {
      "cell_type": "code",
      "metadata": {
        "id": "_CVzczdKw2eg",
        "outputId": "cbc6552b-1707-4a62-9da9-0ea258580c5b"
      },
      "source": [
        "x = [5,3,6,7,8,2,4,1]\n",
        "sorted(x)"
      ],
      "execution_count": null,
      "outputs": [
        {
          "output_type": "execute_result",
          "data": {
            "text/plain": [
              "[1, 2, 3, 4, 5, 6, 7, 8]"
            ]
          },
          "metadata": {
            "tags": []
          },
          "execution_count": 63
        }
      ]
    },
    {
      "cell_type": "code",
      "metadata": {
        "id": "hnmR_njAw2eh",
        "outputId": "cc9500f6-e230-493e-f4c1-d4fc87edba01"
      },
      "source": [
        "# 원본 x는 바뀌지 않고 그대로 있다\n",
        "x"
      ],
      "execution_count": null,
      "outputs": [
        {
          "output_type": "execute_result",
          "data": {
            "text/plain": [
              "[5, 3, 6, 7, 8, 2, 4, 1]"
            ]
          },
          "metadata": {
            "tags": []
          },
          "execution_count": 64
        }
      ]
    },
    {
      "cell_type": "code",
      "metadata": {
        "id": "4dpzNqIZw2eh",
        "outputId": "965cf3b1-5d6d-4a10-8e98-17a12f5aea8a"
      },
      "source": [
        "# 순서 뒤집기\n",
        "x.reverse()\n",
        "x"
      ],
      "execution_count": null,
      "outputs": [
        {
          "output_type": "execute_result",
          "data": {
            "text/plain": [
              "[1, 4, 2, 8, 7, 6, 3, 5]"
            ]
          },
          "metadata": {
            "tags": []
          },
          "execution_count": 65
        }
      ]
    },
    {
      "cell_type": "markdown",
      "metadata": {
        "id": "df4SiLCrw2eh"
      },
      "source": [
        "### 리스트 복제\n",
        "- 리스트 전체를 반복 복제 하려면 \"*\"를 사용한다"
      ]
    },
    {
      "cell_type": "code",
      "metadata": {
        "id": "aJDVIfuifMqA",
        "outputId": "afdee7bc-89cc-4c77-a5ff-de85d4879877"
      },
      "source": [
        "x = [1,2,3,\"kim\"]\n",
        "x*3"
      ],
      "execution_count": null,
      "outputs": [
        {
          "output_type": "execute_result",
          "data": {
            "text/plain": [
              "[1, 2, 3, 'kim', 1, 2, 3, 'kim', 1, 2, 3, 'kim']"
            ]
          },
          "metadata": {
            "tags": []
          },
          "execution_count": 66
        }
      ]
    },
    {
      "cell_type": "code",
      "metadata": {
        "id": "8ZlSe9Fcw2ei",
        "outputId": "8a1b100f-2cf6-4789-bc85-a8b3e6d4c821"
      },
      "source": [
        "x = [1]\n",
        "x*10"
      ],
      "execution_count": null,
      "outputs": [
        {
          "output_type": "execute_result",
          "data": {
            "text/plain": [
              "[1, 1, 1, 1, 1, 1, 1, 1, 1, 1]"
            ]
          },
          "metadata": {
            "tags": []
          },
          "execution_count": 67
        }
      ]
    },
    {
      "cell_type": "markdown",
      "metadata": {
        "id": "v_cZd_gQfMqh"
      },
      "source": [
        "## 튜플 (tuple)\n",
        "- 튜플도 리스트처럼 여러 항목을 담을 수 있는 변수\n",
        "- 리스트와 달리 튜플의 내용은 '상수'로 취급되어 값을 바꿀 수 없다\n",
        "- 읽기 전용 리스트인 셈이며, 처리 속도가 빠르다\n",
        "- 튜플을 만들려면 소괄호( )를 사용하여 만들거나 ( )  없이 \",\" 로 구분하여 나열한다"
      ]
    },
    {
      "cell_type": "code",
      "metadata": {
        "id": "FWh2t30OfMqi",
        "outputId": "07768f3c-c5fc-4107-f609-9ce2d3d29036"
      },
      "source": [
        "my_tuple = (1, 2, 3)\n",
        "your_tuple = 4, 5,\"hello\"\n",
        "my_tuple + your_tuple"
      ],
      "execution_count": null,
      "outputs": [
        {
          "output_type": "execute_result",
          "data": {
            "text/plain": [
              "(1, 2, 3, 4, 5, 'hello')"
            ]
          },
          "metadata": {
            "tags": []
          },
          "execution_count": 68
        }
      ]
    },
    {
      "cell_type": "code",
      "metadata": {
        "id": "4fKitRN3fMql",
        "outputId": "9f688351-dc30-4d6c-d0ca-bcb068330973"
      },
      "source": [
        "a, b, c = 3, 4, 5\n",
        "print(a)\n",
        "print(b)\n",
        "print(a+b+c)"
      ],
      "execution_count": null,
      "outputs": [
        {
          "output_type": "stream",
          "text": [
            "3\n",
            "4\n",
            "12\n"
          ],
          "name": "stdout"
        }
      ]
    },
    {
      "cell_type": "code",
      "metadata": {
        "id": "tqh0nUWHw2ej",
        "outputId": "7d3ab83a-9b80-49a9-fd96-ba132e1735d2"
      },
      "source": [
        "(a, b, c) = (3, 4, 5)\n",
        "print(a+b+c)"
      ],
      "execution_count": null,
      "outputs": [
        {
          "output_type": "stream",
          "text": [
            "12\n"
          ],
          "name": "stdout"
        }
      ]
    },
    {
      "cell_type": "markdown",
      "metadata": {
        "id": "yynomsnffMqr"
      },
      "source": [
        "## 사전 (Dictionaries)\n",
        "- 키-값 조합 형태의 데이터 묶음\n",
        "- 간단한 데이터베이스처럼 사용된다\n",
        "- 항목을 찾을 때 키를 사용한다\n",
        "- 딕셔너리에서 저장된 순서는 의미가 없다\n",
        "- 딕셔너리는 중괄호 {  } 로 만들거나 dict()로 만든다"
      ]
    },
    {
      "cell_type": "code",
      "metadata": {
        "id": "M9BYH2N3fMqs",
        "outputId": "49be4e1c-dfc0-47e6-8df5-c04ccd187213"
      },
      "source": [
        "student = {'grade': 3,'age': 21,'name': \"kim\"  }\n",
        "student['grade']"
      ],
      "execution_count": null,
      "outputs": [
        {
          "output_type": "execute_result",
          "data": {
            "text/plain": [
              "3"
            ]
          },
          "metadata": {
            "tags": []
          },
          "execution_count": 71
        }
      ]
    },
    {
      "cell_type": "code",
      "metadata": {
        "id": "knKE289jfMqv",
        "scrolled": true,
        "outputId": "f67dbaee-fcff-4724-f600-85ee933b3067"
      },
      "source": [
        "print(student.keys())\n",
        "print(student.values())\n",
        "print(student.items()) "
      ],
      "execution_count": null,
      "outputs": [
        {
          "output_type": "stream",
          "text": [
            "dict_keys(['grade', 'age', 'name'])\n",
            "dict_values([3, 21, 'kim'])\n",
            "dict_items([('grade', 3), ('age', 21), ('name', 'kim')])\n"
          ],
          "name": "stdout"
        }
      ]
    },
    {
      "cell_type": "code",
      "metadata": {
        "id": "ShT8ABivfMqz",
        "outputId": "480ab442-8cb2-4f07-a224-631dcdbb5495"
      },
      "source": [
        "# 내용 변경\n",
        "student['age'] = 28\n",
        "student"
      ],
      "execution_count": null,
      "outputs": [
        {
          "output_type": "execute_result",
          "data": {
            "text/plain": [
              "{'grade': 3, 'age': 28, 'name': 'kim'}"
            ]
          },
          "metadata": {
            "tags": []
          },
          "execution_count": 73
        }
      ]
    },
    {
      "cell_type": "code",
      "metadata": {
        "id": "_dL6xpzHw2ek",
        "outputId": "4b24a92b-1569-4e46-a6e0-7b5348c7a537"
      },
      "source": [
        "# 키:값 항목 추가 (없는 키를 사용하면 항목을 새로만든다)\n",
        "student['address'] = 'Seoul'\n",
        "student"
      ],
      "execution_count": null,
      "outputs": [
        {
          "output_type": "execute_result",
          "data": {
            "text/plain": [
              "{'grade': 3, 'age': 28, 'name': 'kim', 'address': 'Seoul'}"
            ]
          },
          "metadata": {
            "tags": []
          },
          "execution_count": 74
        }
      ]
    },
    {
      "cell_type": "code",
      "metadata": {
        "id": "TClY-BwYw2ek",
        "outputId": "e016323f-8a24-4462-c251-41af8b2fea0a"
      },
      "source": [
        "d = dict()\n",
        "d"
      ],
      "execution_count": null,
      "outputs": [
        {
          "output_type": "execute_result",
          "data": {
            "text/plain": [
              "{}"
            ]
          },
          "metadata": {
            "tags": []
          },
          "execution_count": 75
        }
      ]
    },
    {
      "cell_type": "code",
      "metadata": {
        "id": "9tg4qxDEw2ek",
        "outputId": "94fc9e0e-c410-453e-92e2-5851ae9f1140"
      },
      "source": [
        "d[\"key1\"] = 10\n",
        "d"
      ],
      "execution_count": null,
      "outputs": [
        {
          "output_type": "execute_result",
          "data": {
            "text/plain": [
              "{'key1': 10}"
            ]
          },
          "metadata": {
            "tags": []
          },
          "execution_count": 76
        }
      ]
    },
    {
      "cell_type": "markdown",
      "metadata": {
        "id": "flprTI8-w2el"
      },
      "source": [
        "# 프로그램 흐름"
      ]
    },
    {
      "cell_type": "markdown",
      "metadata": {
        "id": "dHU0SONbw2el"
      },
      "source": [
        "## if\n",
        "- if 문 다음이 True이면 \":\" 이후 블록을 실행한다\n",
        "- 블록은 들여쓰기가 같은 영역으로 구분한다"
      ]
    },
    {
      "cell_type": "code",
      "metadata": {
        "id": "VLrsr0ktfMrB",
        "scrolled": true,
        "outputId": "a22ddf5d-a7a7-48e5-d45b-db4dc1729a11"
      },
      "source": [
        "x = 11\n",
        "if x > 10:\n",
        "    print(\"x > 10\") \n",
        "    print(\"if 문 뒤에는 반드시 ':'가 있어야 한다\")\n",
        "    print(\"if 문 적용 블록은 들여쓰기로 구분한다\")\n",
        "else:\n",
        "    print(\" x <= 10\")"
      ],
      "execution_count": null,
      "outputs": [
        {
          "output_type": "stream",
          "text": [
            "x > 10\n",
            "if 문 뒤에는 반드시 ':'가 있어야 한다\n",
            "if 문 적용 블록은 들여쓰기로 구분한다\n"
          ],
          "name": "stdout"
        }
      ]
    },
    {
      "cell_type": "markdown",
      "metadata": {
        "id": "USlCrpgew2el"
      },
      "source": [
        "- else 문은 없어도 된다\n",
        "- elif를 사용하여 다른 조건을 연속하여 검사할 수 있다"
      ]
    },
    {
      "cell_type": "code",
      "metadata": {
        "id": "NyxdfOTfw2el",
        "outputId": "77f1368d-ae71-46b4-94e3-cf49ac5f79a8"
      },
      "source": [
        "x = 70\n",
        "if x > 90:\n",
        "    print(\"매우 높은 점수!\") \n",
        "elif x > 60:\n",
        "    print(\"평균은 넘는 점수!\") \n",
        "else:\n",
        "    print(\"낮은 점수!\")"
      ],
      "execution_count": null,
      "outputs": [
        {
          "output_type": "stream",
          "text": [
            "평균은 넘는 점수!\n"
          ],
          "name": "stdout"
        }
      ]
    },
    {
      "cell_type": "markdown",
      "metadata": {
        "id": "gLUGh4H9w2em"
      },
      "source": [
        "### 조건문에 in 사용"
      ]
    },
    {
      "cell_type": "code",
      "metadata": {
        "id": "KOYzXP9Vw2em",
        "outputId": "9ccad636-e386-4492-ef9f-8f189c5556c3"
      },
      "source": [
        "y = [1,2,3,4]\n",
        "x = 6\n",
        "x in y"
      ],
      "execution_count": null,
      "outputs": [
        {
          "output_type": "execute_result",
          "data": {
            "text/plain": [
              "False"
            ]
          },
          "metadata": {
            "tags": []
          },
          "execution_count": 79
        }
      ]
    },
    {
      "cell_type": "code",
      "metadata": {
        "id": "4WyGckEKw2em",
        "outputId": "d5ca8ea3-996d-4fcd-fb64-dc85c037f2fb"
      },
      "source": [
        "if x in y:\n",
        "    print(\"x가 y에 포함되어 있다\")\n",
        "else:\n",
        "    print(\"x가 y에 포함되어 있지 않다\")"
      ],
      "execution_count": null,
      "outputs": [
        {
          "output_type": "stream",
          "text": [
            "x가 y에 포함되어 있지 않다\n"
          ],
          "name": "stdout"
        }
      ]
    },
    {
      "cell_type": "markdown",
      "metadata": {
        "id": "SXJp2FqFw2em"
      },
      "source": [
        "## for\n",
        "- 특정 조건이 만족되는 동안 \":\" 이후의 블록을 수행\n",
        "- 수행할 블록은 들여쓰기로 구분한다"
      ]
    },
    {
      "cell_type": "code",
      "metadata": {
        "id": "7WJYQFCvw2en",
        "outputId": "1e86852e-b2eb-4b07-cf1e-2b5676ced9ca"
      },
      "source": [
        "y = [1,2,3,4]\n",
        "for i in y:\n",
        "    print(i*10)"
      ],
      "execution_count": null,
      "outputs": [
        {
          "output_type": "stream",
          "text": [
            "10\n",
            "20\n",
            "30\n",
            "40\n"
          ],
          "name": "stdout"
        }
      ]
    },
    {
      "cell_type": "markdown",
      "metadata": {
        "id": "34_GPdStw2en"
      },
      "source": [
        "### 리스트 내에서 for 사용하기"
      ]
    },
    {
      "cell_type": "code",
      "metadata": {
        "id": "fVkcpGuHw2en",
        "outputId": "c9f27188-c8c6-481b-a961-3caa0e9e226c"
      },
      "source": [
        "# 새로운 리스트 생성하기\n",
        "y = [1,2,3,4]\n",
        "[i*100 for i in y]"
      ],
      "execution_count": null,
      "outputs": [
        {
          "output_type": "execute_result",
          "data": {
            "text/plain": [
              "[100, 200, 300, 400]"
            ]
          },
          "metadata": {
            "tags": []
          },
          "execution_count": 82
        }
      ]
    },
    {
      "cell_type": "code",
      "metadata": {
        "id": "pdFELOzGw2en",
        "outputId": "b19e4ba8-ecf1-4f5e-ab83-be146fa951a5"
      },
      "source": [
        "# 조건에 맞는 문자열을 찾아서 리스트를 만들기\n",
        "target = ['cat001', 'cat002', 'dog003', 'dog004']\n",
        "match = 'cat'\n",
        "matching = [s for s in target if match in s]\n",
        "matching"
      ],
      "execution_count": null,
      "outputs": [
        {
          "output_type": "execute_result",
          "data": {
            "text/plain": [
              "['cat001', 'cat002']"
            ]
          },
          "metadata": {
            "tags": []
          },
          "execution_count": 83
        }
      ]
    },
    {
      "cell_type": "markdown",
      "metadata": {
        "id": "hr6UkJpJw2en"
      },
      "source": [
        "### 특수변수, range\n",
        "- 일정 범위의 정수값을 포함하는 변수를 만들어준다\n",
        "- 날짜의 구간을 지정하는 date_range도 있다"
      ]
    },
    {
      "cell_type": "code",
      "metadata": {
        "id": "oWqpat80fMq7",
        "outputId": "5617803c-c7ec-40a3-a06f-073204c3c7ae"
      },
      "source": [
        "# 0~4 사이의 정수를 포함 : range(5)\n",
        "x = range(5)\n",
        "for i in x:\n",
        "    print(i*10)"
      ],
      "execution_count": null,
      "outputs": [
        {
          "output_type": "stream",
          "text": [
            "0\n",
            "10\n",
            "20\n",
            "30\n",
            "40\n"
          ],
          "name": "stdout"
        }
      ]
    },
    {
      "cell_type": "code",
      "metadata": {
        "id": "gJurP1YDw2eo",
        "outputId": "a4d30a16-b19b-46aa-e1fa-1ef84f79853d"
      },
      "source": [
        "# 1~11 사이의 정수를 2씩 띄어서 포함\n",
        "# 마지막 값은 \"이하\"가 아니라 \"미만\"으로 처리한다\n",
        "x = range(1,11,2)\n",
        "for i in x: print(i*10)"
      ],
      "execution_count": null,
      "outputs": [
        {
          "output_type": "stream",
          "text": [
            "10\n",
            "30\n",
            "50\n",
            "70\n",
            "90\n"
          ],
          "name": "stdout"
        }
      ]
    },
    {
      "cell_type": "code",
      "metadata": {
        "id": "HnyNqFR2fMq-",
        "scrolled": true,
        "outputId": "855d39fb-39f3-41b9-bf2f-9ca5f958ce27"
      },
      "source": [
        "# for와 range를 사용하여 리스트 만들기\n",
        "x = [i*10 for i in range(10)] \n",
        "x"
      ],
      "execution_count": null,
      "outputs": [
        {
          "output_type": "execute_result",
          "data": {
            "text/plain": [
              "[0, 10, 20, 30, 40, 50, 60, 70, 80, 90]"
            ]
          },
          "metadata": {
            "tags": []
          },
          "execution_count": 86
        }
      ]
    },
    {
      "cell_type": "markdown",
      "metadata": {
        "id": "36FbyUGGw2eo"
      },
      "source": [
        "### 인덱스와 항목 얻기, enumerate\n",
        "- 리스트 항목의 인덱스 (순서 번호)를 같이 알려준다\n",
        "- enumerate은 두 개의 값을 리턴한다"
      ]
    },
    {
      "cell_type": "code",
      "metadata": {
        "id": "jwP1VnJEw2ep",
        "outputId": "be958502-286e-48a2-bb04-6b3c71e60682"
      },
      "source": [
        "x = [\"kim\", \"park\", \"lee\"]\n",
        "list(enumerate(x))"
      ],
      "execution_count": null,
      "outputs": [
        {
          "output_type": "execute_result",
          "data": {
            "text/plain": [
              "[(0, 'kim'), (1, 'park'), (2, 'lee')]"
            ]
          },
          "metadata": {
            "tags": []
          },
          "execution_count": 87
        }
      ]
    },
    {
      "cell_type": "code",
      "metadata": {
        "scrolled": true,
        "id": "5xk7eZhtw2ep",
        "outputId": "7b880735-5a76-4da2-e847-978173caa4a9"
      },
      "source": [
        "for i, name in enumerate(x):\n",
        "    print(f\"{i} 번째 사람 이름은 {name}입니다\")"
      ],
      "execution_count": null,
      "outputs": [
        {
          "output_type": "stream",
          "text": [
            "0 번째 사람 이름은 kim입니다\n",
            "1 번째 사람 이름은 park입니다\n",
            "2 번째 사람 이름은 lee입니다\n"
          ],
          "name": "stdout"
        }
      ]
    },
    {
      "cell_type": "markdown",
      "metadata": {
        "id": "3g40GYC9w2ep"
      },
      "source": [
        "## while\n",
        "- 조건이 만족하는 동안 계속 수행"
      ]
    },
    {
      "cell_type": "code",
      "metadata": {
        "id": "YxlF2PVdw2ep",
        "outputId": "eff51e71-529e-4d70-f3b4-923a277b8ee9"
      },
      "source": [
        "x = 0\n",
        "while x < 5:\n",
        "    print('x =', x)\n",
        "    x = x+1"
      ],
      "execution_count": null,
      "outputs": [
        {
          "output_type": "stream",
          "text": [
            "x = 0\n",
            "x = 1\n",
            "x = 2\n",
            "x = 3\n",
            "x = 4\n"
          ],
          "name": "stdout"
        }
      ]
    },
    {
      "cell_type": "code",
      "metadata": {
        "id": "v0z5tbSVw2eq",
        "outputId": "bf370cfa-81bf-475f-ad7b-10ec89e21b99"
      },
      "source": [
        "# 무한 반복 형태로도 사용된다\n",
        "x = 0\n",
        "while True:\n",
        "    print('x =', x)\n",
        "    x = x+1\n",
        "    if x > 5:\n",
        "        print('Too Big!!')\n",
        "        break"
      ],
      "execution_count": null,
      "outputs": [
        {
          "output_type": "stream",
          "text": [
            "x = 0\n",
            "x = 1\n",
            "x = 2\n",
            "x = 3\n",
            "x = 4\n",
            "x = 5\n",
            "Too Big!!\n"
          ],
          "name": "stdout"
        }
      ]
    },
    {
      "cell_type": "code",
      "metadata": {
        "id": "RKkYhPyhw2eq"
      },
      "source": [
        ""
      ],
      "execution_count": null,
      "outputs": []
    }
  ]
}